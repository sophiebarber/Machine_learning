{
  "cells": [
    {
      "cell_type": "markdown",
      "metadata": {
        "id": "view-in-github",
        "colab_type": "text"
      },
      "source": [
        "<a href=\"https://colab.research.google.com/github/sophiebarber/Machine_learning/blob/main/Exercise_2_Group_10.ipynb\" target=\"_parent\"><img src=\"https://colab.research.google.com/assets/colab-badge.svg\" alt=\"Open In Colab\"/></a>"
      ]
    },
    {
      "cell_type": "markdown",
      "metadata": {
        "id": "0FZeFzTWzrrd"
      },
      "source": [
        "# Homework 2 - Classification\n",
        "\n",
        "In this exercise you will use scikit-learn, a popular machine learning package in python to train and tune a classifier. A particularly useful feature is that all classifiers (and linear models) are called using the same API, so it is easy to test between different models (see the sklearn-intro notebook for examples). So in this exercise we will a classification technique (logistic regression) that is representative of methods and challenges you will encounter when using any classification method.\n",
        "\n",
        "\n",
        "## Dataset 1\n",
        "The dataset you will be using is default of credit card clients Data Set.\n",
        "There are two data files: \"CreditDefault_training.csv\" and \"CreditDefault_Xtest.csv\"\n",
        "Both files have the following fields, except the label (\"default.payment.next.month\") which is not available in \"CreditDefault_Xtest.csv\"\n",
        "\n",
        "Features:\n",
        "\n",
        "1 - LIMIT_BAL:  Amount of the given credit (NT dollar): it includes both the individual consumer credit and his/her family (supplementary) credit. <br>\n",
        "2 - SEX: (1 = male; 2 = female) <br>\n",
        "3- EDUCATION: (six levels: 1,2,3,4,5,6) <br>\n",
        "4 - MARRIAGE: (1 = married; 2 = single; 3 = others) <br>\n",
        "5 - AGE <br>\n",
        "\n",
        "From \"PAY_1\" to \"PAY_6\": History of past payment (Repayment status: -2: Balance paid in full and no transactions this period; -1: Balance paid in full, but account has a positive balance at end of period due to recent transactions for which payment has not yet come due; 0: Customer paid the minimum due amount, but not the entire balance; 1 = payment delay for one month; 2 = payment delay for two months; . . .; 8 = payment delay for eight months; 9 = payment delay for nine months and above.)<br>\n",
        "6 - PAY_1: the repayment status in September, 2005 <br>\n",
        "7 - PAY_2: the repayment status in August, 2005 <br>\n",
        "...<br>\n",
        "11 - PAY_6: the repayment status in April, 2005 <br>\n",
        "\n",
        "From \"BILL_AMT1\" to \"BILL_AMT6\": Amount of bill statement (NT dollar).<br>\n",
        "12 - BILL_AMT1 : amount of bill statement in September, 2005<br>\n",
        "13 - BILL_AMT2 : amount of bill statement in August, 2005<br>\n",
        "...<br>\n",
        "17 - BILL_AMT6 : amount of bill statement in April, 2005<br>\n",
        "\n",
        "From \"PAY_AMT1\" to \"PAY_AMT6\": Amount of previous payment (NT dollar).<br>\n",
        "18 - PAY_AMT1 : amount paid in September, 2005<br>\n",
        "19 - PAY_AMT2 : amount paid in August, 2005<br>\n",
        "...<br>\n",
        "23 - PAY_AMT6 : amount paid in April, 2005<br>\n",
        "\n",
        "Target:\n",
        "\n",
        "default.payment.next.month: binary variable, whether default payment (Yes = 1, No = 0)\n",
        "\n",
        "\n",
        "Training dataset, \"CreditDefault_training.csv\", contains 3985 rows and 24 columns. This is the training set containing both of the features and the target.\n",
        "Test dataset, \"CreditDefault_Xtest.csv\", contains 1000 rows and 23 columns. This is the test set which only contains the features.\n",
        "\n",
        "Prediction task is to determine whether there's credit default for a person.\n",
        "\n"
      ]
    },
    {
      "cell_type": "code",
      "source": [
        "## Mishika"
      ],
      "metadata": {
        "id": "Y5q5W0kFV-eF"
      },
      "execution_count": null,
      "outputs": []
    },
    {
      "cell_type": "code",
      "execution_count": null,
      "metadata": {
        "id": "ZOKRx3iKPoKk"
      },
      "outputs": [],
      "source": [
        "import numpy as np\n",
        "import pandas as pd\n",
        "from google.colab import files\n",
        "import io"
      ]
    },
    {
      "cell_type": "code",
      "execution_count": null,
      "metadata": {
        "id": "wLUGs9kXQDDG",
        "colab": {
          "base_uri": "https://localhost:8080/",
          "height": 109
        },
        "outputId": "0997c1d9-cf87-49d6-e45a-8a1fa88a6db8"
      },
      "outputs": [
        {
          "output_type": "display_data",
          "data": {
            "text/plain": [
              "<IPython.core.display.HTML object>"
            ],
            "text/html": [
              "\n",
              "     <input type=\"file\" id=\"files-a609ad4b-7fac-4cb7-9f8f-92d8552909d4\" name=\"files[]\" multiple disabled\n",
              "        style=\"border:none\" />\n",
              "     <output id=\"result-a609ad4b-7fac-4cb7-9f8f-92d8552909d4\">\n",
              "      Upload widget is only available when the cell has been executed in the\n",
              "      current browser session. Please rerun this cell to enable.\n",
              "      </output>\n",
              "      <script>// Copyright 2017 Google LLC\n",
              "//\n",
              "// Licensed under the Apache License, Version 2.0 (the \"License\");\n",
              "// you may not use this file except in compliance with the License.\n",
              "// You may obtain a copy of the License at\n",
              "//\n",
              "//      http://www.apache.org/licenses/LICENSE-2.0\n",
              "//\n",
              "// Unless required by applicable law or agreed to in writing, software\n",
              "// distributed under the License is distributed on an \"AS IS\" BASIS,\n",
              "// WITHOUT WARRANTIES OR CONDITIONS OF ANY KIND, either express or implied.\n",
              "// See the License for the specific language governing permissions and\n",
              "// limitations under the License.\n",
              "\n",
              "/**\n",
              " * @fileoverview Helpers for google.colab Python module.\n",
              " */\n",
              "(function(scope) {\n",
              "function span(text, styleAttributes = {}) {\n",
              "  const element = document.createElement('span');\n",
              "  element.textContent = text;\n",
              "  for (const key of Object.keys(styleAttributes)) {\n",
              "    element.style[key] = styleAttributes[key];\n",
              "  }\n",
              "  return element;\n",
              "}\n",
              "\n",
              "// Max number of bytes which will be uploaded at a time.\n",
              "const MAX_PAYLOAD_SIZE = 100 * 1024;\n",
              "\n",
              "function _uploadFiles(inputId, outputId) {\n",
              "  const steps = uploadFilesStep(inputId, outputId);\n",
              "  const outputElement = document.getElementById(outputId);\n",
              "  // Cache steps on the outputElement to make it available for the next call\n",
              "  // to uploadFilesContinue from Python.\n",
              "  outputElement.steps = steps;\n",
              "\n",
              "  return _uploadFilesContinue(outputId);\n",
              "}\n",
              "\n",
              "// This is roughly an async generator (not supported in the browser yet),\n",
              "// where there are multiple asynchronous steps and the Python side is going\n",
              "// to poll for completion of each step.\n",
              "// This uses a Promise to block the python side on completion of each step,\n",
              "// then passes the result of the previous step as the input to the next step.\n",
              "function _uploadFilesContinue(outputId) {\n",
              "  const outputElement = document.getElementById(outputId);\n",
              "  const steps = outputElement.steps;\n",
              "\n",
              "  const next = steps.next(outputElement.lastPromiseValue);\n",
              "  return Promise.resolve(next.value.promise).then((value) => {\n",
              "    // Cache the last promise value to make it available to the next\n",
              "    // step of the generator.\n",
              "    outputElement.lastPromiseValue = value;\n",
              "    return next.value.response;\n",
              "  });\n",
              "}\n",
              "\n",
              "/**\n",
              " * Generator function which is called between each async step of the upload\n",
              " * process.\n",
              " * @param {string} inputId Element ID of the input file picker element.\n",
              " * @param {string} outputId Element ID of the output display.\n",
              " * @return {!Iterable<!Object>} Iterable of next steps.\n",
              " */\n",
              "function* uploadFilesStep(inputId, outputId) {\n",
              "  const inputElement = document.getElementById(inputId);\n",
              "  inputElement.disabled = false;\n",
              "\n",
              "  const outputElement = document.getElementById(outputId);\n",
              "  outputElement.innerHTML = '';\n",
              "\n",
              "  const pickedPromise = new Promise((resolve) => {\n",
              "    inputElement.addEventListener('change', (e) => {\n",
              "      resolve(e.target.files);\n",
              "    });\n",
              "  });\n",
              "\n",
              "  const cancel = document.createElement('button');\n",
              "  inputElement.parentElement.appendChild(cancel);\n",
              "  cancel.textContent = 'Cancel upload';\n",
              "  const cancelPromise = new Promise((resolve) => {\n",
              "    cancel.onclick = () => {\n",
              "      resolve(null);\n",
              "    };\n",
              "  });\n",
              "\n",
              "  // Wait for the user to pick the files.\n",
              "  const files = yield {\n",
              "    promise: Promise.race([pickedPromise, cancelPromise]),\n",
              "    response: {\n",
              "      action: 'starting',\n",
              "    }\n",
              "  };\n",
              "\n",
              "  cancel.remove();\n",
              "\n",
              "  // Disable the input element since further picks are not allowed.\n",
              "  inputElement.disabled = true;\n",
              "\n",
              "  if (!files) {\n",
              "    return {\n",
              "      response: {\n",
              "        action: 'complete',\n",
              "      }\n",
              "    };\n",
              "  }\n",
              "\n",
              "  for (const file of files) {\n",
              "    const li = document.createElement('li');\n",
              "    li.append(span(file.name, {fontWeight: 'bold'}));\n",
              "    li.append(span(\n",
              "        `(${file.type || 'n/a'}) - ${file.size} bytes, ` +\n",
              "        `last modified: ${\n",
              "            file.lastModifiedDate ? file.lastModifiedDate.toLocaleDateString() :\n",
              "                                    'n/a'} - `));\n",
              "    const percent = span('0% done');\n",
              "    li.appendChild(percent);\n",
              "\n",
              "    outputElement.appendChild(li);\n",
              "\n",
              "    const fileDataPromise = new Promise((resolve) => {\n",
              "      const reader = new FileReader();\n",
              "      reader.onload = (e) => {\n",
              "        resolve(e.target.result);\n",
              "      };\n",
              "      reader.readAsArrayBuffer(file);\n",
              "    });\n",
              "    // Wait for the data to be ready.\n",
              "    let fileData = yield {\n",
              "      promise: fileDataPromise,\n",
              "      response: {\n",
              "        action: 'continue',\n",
              "      }\n",
              "    };\n",
              "\n",
              "    // Use a chunked sending to avoid message size limits. See b/62115660.\n",
              "    let position = 0;\n",
              "    do {\n",
              "      const length = Math.min(fileData.byteLength - position, MAX_PAYLOAD_SIZE);\n",
              "      const chunk = new Uint8Array(fileData, position, length);\n",
              "      position += length;\n",
              "\n",
              "      const base64 = btoa(String.fromCharCode.apply(null, chunk));\n",
              "      yield {\n",
              "        response: {\n",
              "          action: 'append',\n",
              "          file: file.name,\n",
              "          data: base64,\n",
              "        },\n",
              "      };\n",
              "\n",
              "      let percentDone = fileData.byteLength === 0 ?\n",
              "          100 :\n",
              "          Math.round((position / fileData.byteLength) * 100);\n",
              "      percent.textContent = `${percentDone}% done`;\n",
              "\n",
              "    } while (position < fileData.byteLength);\n",
              "  }\n",
              "\n",
              "  // All done.\n",
              "  yield {\n",
              "    response: {\n",
              "      action: 'complete',\n",
              "    }\n",
              "  };\n",
              "}\n",
              "\n",
              "scope.google = scope.google || {};\n",
              "scope.google.colab = scope.google.colab || {};\n",
              "scope.google.colab._files = {\n",
              "  _uploadFiles,\n",
              "  _uploadFilesContinue,\n",
              "};\n",
              "})(self);\n",
              "</script> "
            ]
          },
          "metadata": {}
        },
        {
          "output_type": "stream",
          "name": "stdout",
          "text": [
            "Saving CreditDefault_training.csv to CreditDefault_training (3).csv\n",
            "Saving CreditDefault_Xtest.csv to CreditDefault_Xtest (3).csv\n"
          ]
        }
      ],
      "source": [
        "# Load your training data set\n",
        "uploaded = files.upload()"
      ]
    },
    {
      "cell_type": "code",
      "execution_count": null,
      "metadata": {
        "id": "LYPHIV6FSUI2"
      },
      "outputs": [],
      "source": [
        "# Split training data into X and y\n",
        "df_train = pd.read_csv(io.BytesIO(uploaded['CreditDefault_training (3).csv']))\n",
        "df_test = pd.read_csv(io.BytesIO(uploaded['CreditDefault_Xtest (3).csv']))\n"
      ]
    },
    {
      "cell_type": "markdown",
      "metadata": {
        "id": "YjyP9oUHTmo5"
      },
      "source": [
        "## Standardization and One-hot Encoding\n",
        "\n",
        "Standardize the continuous features and convert categorical variables ('SEX', 'EDUCATION', 'MARRIAGE', 'PAY_1', 'PAY_2', 'PAY_3', 'PAY_4', 'PAY_5', 'PAY_6') into dummy variables.<br>\n",
        "Note the situation where not all repayment status categories (-2, -1, 0, 1, 2, 3, 4, 5, 6, 7, 8, 9) necessarily appear in the training dataset for variables 'PAY_1', 'PAY_2', 'PAY_3', 'PAY_4', 'PAY_5', 'PAY_6'."
      ]
    },
    {
      "cell_type": "markdown",
      "metadata": {
        "id": "Uj3pFsrv_mv9"
      },
      "source": [
        "Standardization and one-hot encoding for training set and test set"
      ]
    },
    {
      "cell_type": "code",
      "execution_count": null,
      "metadata": {
        "id": "zPKfTRyiKueh",
        "colab": {
          "base_uri": "https://localhost:8080/"
        },
        "outputId": "645ce2b6-952d-424c-c10c-d6c8b7c19204"
      },
      "outputs": [
        {
          "output_type": "stream",
          "name": "stdout",
          "text": [
            "   LIMIT_BAL       AGE  BILL_AMT1  BILL_AMT2  BILL_AMT3  BILL_AMT4  BILL_AMT5  \\\n",
            "0  -0.902690 -1.237370  -0.659401  -0.657623  -0.653395  -0.558590  -0.564919   \n",
            "1  -0.751263 -1.237370   0.123571   0.174192   0.222944   0.299113   0.397532   \n",
            "2   1.898720  0.816144  -0.573530  -0.484216  -0.572498  -0.613365  -0.597173   \n",
            "3  -1.054118  1.896941  -0.680080  -0.679090  -0.618263  -0.598931  -0.584702   \n",
            "4  -0.902690  1.464622  -0.427412  -0.411319  -0.357541  -0.331676  -0.296197   \n",
            "\n",
            "   BILL_AMT6  PAY_AMT1  PAY_AMT2  PAY_AMT3  PAY_AMT4  PAY_AMT5  PAY_AMT6  \n",
            "0  -0.630095 -0.264370 -0.244519  0.071315 -0.262679 -0.267721  1.270320  \n",
            "1   0.500862 -0.175510 -0.171175 -0.178872 -0.109918  0.049149 -0.300705  \n",
            "2  -0.540866  0.526037  0.097548 -0.157124 -0.108494  0.057642  1.564334  \n",
            "3  -0.635727 -0.362190 -0.116218 -0.332890 -0.268056 -0.288256 -0.300705  \n",
            "4  -0.272334 -0.299963 -0.154688 -0.332890 -0.215343 -0.230083 -0.242460  \n"
          ]
        }
      ],
      "source": [
        "#standardization of continuous variables of the training set\n",
        "from sklearn.preprocessing import StandardScaler\n",
        "\n",
        "# Selecting the continuous variables\n",
        "stand_cont_train = df_train[['LIMIT_BAL', 'AGE', 'BILL_AMT1', 'BILL_AMT2',\n",
        "       'BILL_AMT3', 'BILL_AMT4', 'BILL_AMT5', 'BILL_AMT6', 'PAY_AMT1',\n",
        "       'PAY_AMT2', 'PAY_AMT3', 'PAY_AMT4', 'PAY_AMT5', 'PAY_AMT6']]\n",
        "\n",
        "# Applying StandardScaler\n",
        "scaler = StandardScaler()\n",
        "cont_scaled_train = scaler.fit_transform(stand_cont_train)\n",
        "\n",
        "# Convert to DataFrame\n",
        "cont_scaled_df_train = pd.DataFrame(cont_scaled_train, columns=stand_cont_train.columns)\n",
        "\n",
        "# Display the first few rows of the scaled dataframe\n",
        "print(cont_scaled_df_train.head())"
      ]
    },
    {
      "cell_type": "code",
      "source": [
        "#standardization of continuous variables of the test set\n",
        "from sklearn.preprocessing import StandardScaler\n",
        "\n",
        "# Selecting the continuous variables\n",
        "stand_cont_test = df_test[['LIMIT_BAL', 'AGE', 'BILL_AMT1', 'BILL_AMT2',\n",
        "       'BILL_AMT3', 'BILL_AMT4', 'BILL_AMT5', 'BILL_AMT6', 'PAY_AMT1',\n",
        "       'PAY_AMT2', 'PAY_AMT3', 'PAY_AMT4', 'PAY_AMT5', 'PAY_AMT6']]\n",
        "\n",
        "# Applying StandardScaler\n",
        "scaler = StandardScaler()\n",
        "cont_scaled_test = scaler.fit_transform(stand_cont_test)\n",
        "\n",
        "# Convert to DataFrame\n",
        "cont_scaled_df_test = pd.DataFrame(cont_scaled_test, columns=stand_cont_test.columns)\n",
        "\n",
        "# Display the first few rows of the scaled dataframe\n",
        "print(cont_scaled_df_test.head())"
      ],
      "metadata": {
        "colab": {
          "base_uri": "https://localhost:8080/"
        },
        "id": "LYYgIiDV76Mj",
        "outputId": "f112423b-4e40-42e6-d2ec-b548fdddd88c"
      },
      "execution_count": null,
      "outputs": [
        {
          "output_type": "stream",
          "name": "stdout",
          "text": [
            "   LIMIT_BAL       AGE  BILL_AMT1  BILL_AMT2  BILL_AMT3  BILL_AMT4  BILL_AMT5  \\\n",
            "0  -0.630510  0.620300   1.634425   1.512066   1.351052  -0.369743  -0.607774   \n",
            "1  -0.863285 -0.044189  -0.029025  -0.424391  -0.422265  -0.382195  -0.355548   \n",
            "2  -0.630510  0.731049  -0.452793  -0.420992  -0.387009  -0.345811  -0.307403   \n",
            "3  -0.009777 -0.930174   0.713256   0.435431   0.536011  -0.034137   0.033896   \n",
            "4  -1.018468 -0.597929  -0.571248  -0.515319  -0.477150  -0.414975  -0.375876   \n",
            "\n",
            "   BILL_AMT6  PAY_AMT1  PAY_AMT2  PAY_AMT3  PAY_AMT4  PAY_AMT5  PAY_AMT6  \n",
            "0  -0.444210 -0.082065 -0.172661 -0.223336 -0.114938  0.421282 -0.196015  \n",
            "1  -0.330376 -0.279571  0.078449 -0.233273 -0.258322 -0.285271 -0.247379  \n",
            "2  -0.293458 -0.277090 -0.295516 -0.233030 -0.258322 -0.328137 -0.183797  \n",
            "3  -0.646624 -0.135306 -0.160510 -0.189408 -0.195212 -0.328137 -0.277784  \n",
            "4  -0.308253 -0.177841 -0.275265 -0.174867 -0.258322 -0.137056 -0.230790  \n"
          ]
        }
      ]
    },
    {
      "cell_type": "code",
      "source": [
        "# one-hot encoding of categorical variables of the training data set\n",
        "from sklearn.preprocessing import OneHotEncoder\n",
        "\n",
        "cat_data_train = df_train[['SEX', 'EDUCATION', 'MARRIAGE']]\n",
        "\n",
        "# Applying OneHotEncoder\n",
        "encoder = OneHotEncoder(sparse=False)\n",
        "categorical_encoded_train_1 = encoder.fit_transform(cat_data_train)\n",
        "categorical_encoded_df_train_1 = pd.DataFrame(categorical_encoded_train_1, columns=encoder.get_feature_names_out(cat_data_train.columns))\n",
        "\n",
        "# Encoding the other categorical variables from 'PAY_1' to 'PAY_6'\n",
        "\n",
        "# Creating a numpy array with all possible values of PAY columns\n",
        "cat = np.array([-2,-1,0,1,2,3,4,5,6,7,8,9])\n",
        "a_cat = []\n",
        "\n",
        " #Creating a list of 6 numpy arrays that represent each PAY column containing all the possible values\n",
        "for i in range(0,6):\n",
        "  a_cat.append(cat)\n",
        "\n",
        "\n",
        "cat_data_train_2 = df_train[['PAY_1', 'PAY_2', 'PAY_3', 'PAY_4', 'PAY_5', 'PAY_6']]\n",
        "#Encoding the training set for PAY_1 to PAY_6 variables\n",
        "encoder_1 = OneHotEncoder(sparse = False, categories= a_cat)\n",
        "categorical_encoded_train_2 = encoder_1.fit_transform(cat_data_train_2)\n",
        "categorical_encoded_df_train_2 = pd.DataFrame(categorical_encoded_train_2, columns=encoder_1.get_feature_names_out(cat_data_train_2.columns))\n",
        "\n",
        "\n",
        "categorical_encoded_df_train = pd.concat([categorical_encoded_df_train_1,categorical_encoded_df_train_2], axis =1)\n",
        "print(categorical_encoded_df_train.head())\n"
      ],
      "metadata": {
        "colab": {
          "base_uri": "https://localhost:8080/"
        },
        "id": "1I-vyo4Fj8wr",
        "outputId": "8042dbb0-90b3-4861-9e05-5d676a905df2"
      },
      "execution_count": null,
      "outputs": [
        {
          "output_type": "stream",
          "name": "stderr",
          "text": [
            "/usr/local/lib/python3.10/dist-packages/sklearn/preprocessing/_encoders.py:868: FutureWarning: `sparse` was renamed to `sparse_output` in version 1.2 and will be removed in 1.4. `sparse_output` is ignored unless you leave `sparse` to its default value.\n",
            "  warnings.warn(\n",
            "/usr/local/lib/python3.10/dist-packages/sklearn/preprocessing/_encoders.py:868: FutureWarning: `sparse` was renamed to `sparse_output` in version 1.2 and will be removed in 1.4. `sparse_output` is ignored unless you leave `sparse` to its default value.\n",
            "  warnings.warn(\n"
          ]
        },
        {
          "output_type": "stream",
          "name": "stdout",
          "text": [
            "   SEX_1  SEX_2  EDUCATION_1  EDUCATION_2  EDUCATION_3  EDUCATION_4  \\\n",
            "0    0.0    1.0          0.0          1.0          0.0          0.0   \n",
            "1    0.0    1.0          0.0          1.0          0.0          0.0   \n",
            "2    1.0    0.0          1.0          0.0          0.0          0.0   \n",
            "3    1.0    0.0          0.0          1.0          0.0          0.0   \n",
            "4    0.0    1.0          0.0          1.0          0.0          0.0   \n",
            "\n",
            "   EDUCATION_5  EDUCATION_6  MARRIAGE_1  MARRIAGE_2  ...  PAY_6_0  PAY_6_1  \\\n",
            "0          0.0          0.0         0.0         1.0  ...      0.0      0.0   \n",
            "1          0.0          0.0         0.0         1.0  ...      1.0      0.0   \n",
            "2          0.0          0.0         1.0         0.0  ...      0.0      0.0   \n",
            "3          0.0          0.0         0.0         0.0  ...      1.0      0.0   \n",
            "4          0.0          0.0         1.0         0.0  ...      1.0      0.0   \n",
            "\n",
            "   PAY_6_2  PAY_6_3  PAY_6_4  PAY_6_5  PAY_6_6  PAY_6_7  PAY_6_8  PAY_6_9  \n",
            "0      0.0      0.0      0.0      0.0      0.0      0.0      0.0      0.0  \n",
            "1      0.0      0.0      0.0      0.0      0.0      0.0      0.0      0.0  \n",
            "2      0.0      0.0      0.0      0.0      0.0      0.0      0.0      0.0  \n",
            "3      0.0      0.0      0.0      0.0      0.0      0.0      0.0      0.0  \n",
            "4      0.0      0.0      0.0      0.0      0.0      0.0      0.0      0.0  \n",
            "\n",
            "[5 rows x 83 columns]\n"
          ]
        }
      ]
    },
    {
      "cell_type": "code",
      "source": [
        "# one-hot encoding of categorical variables of the test data set\n",
        "from sklearn.preprocessing import OneHotEncoder\n",
        "\n",
        "cat_data_test = df_test[['SEX', 'EDUCATION', 'MARRIAGE']]\n",
        "\n",
        "# Applying OneHotEncoder\n",
        "encoder = OneHotEncoder(sparse=False)\n",
        "categorical_encoded_test_1 = encoder.fit_transform(cat_data_test)\n",
        "categorical_encoded_df_test_1 = pd.DataFrame(categorical_encoded_test_1, columns=encoder.get_feature_names_out(cat_data_test.columns))\n",
        "\n",
        "# Encoding the other categorical variables from 'PAY_1' to 'PAY_6'\n",
        "\n",
        "# Creating a numpy array with all possible values of PAY columns\n",
        "cat = np.array([-2,-1,0,1,2,3,4,5,6,7,8,9])\n",
        "a_cat = []\n",
        "\n",
        " #Creating a list of 6 numpy arrays that represent each PAY column containing all the possible values\n",
        "for i in range(0,6):\n",
        "  a_cat.append(cat)\n",
        "\n",
        "\n",
        "cat_data_test_2 = df_test[['PAY_1', 'PAY_2', 'PAY_3', 'PAY_4', 'PAY_5', 'PAY_6']]\n",
        "#Encoding the training set for PAY_1 to PAY_6 variables\n",
        "categorical_encoded_test_2 = encoder_1.transform(cat_data_test_2)\n",
        "categorical_encoded_df_test_2 = pd.DataFrame(categorical_encoded_test_2, columns=encoder_1.get_feature_names_out(cat_data_test_2.columns))\n",
        "\n",
        "categorical_encoded_df_test = pd.concat([categorical_encoded_df_test_1,categorical_encoded_df_test_2], axis =1)\n",
        "print(categorical_encoded_df_test.head())\n"
      ],
      "metadata": {
        "colab": {
          "base_uri": "https://localhost:8080/"
        },
        "id": "jBYRJUr9pcdm",
        "outputId": "9a06075e-4fdc-4ad8-edca-808fbf56cdad"
      },
      "execution_count": null,
      "outputs": [
        {
          "output_type": "stream",
          "name": "stdout",
          "text": [
            "   SEX_1  SEX_2  EDUCATION_1  EDUCATION_2  EDUCATION_3  EDUCATION_4  \\\n",
            "0    1.0    0.0          0.0          0.0          0.0          0.0   \n",
            "1    1.0    0.0          1.0          0.0          0.0          0.0   \n",
            "2    0.0    1.0          1.0          0.0          0.0          0.0   \n",
            "3    0.0    1.0          0.0          1.0          0.0          0.0   \n",
            "4    1.0    0.0          1.0          0.0          0.0          0.0   \n",
            "\n",
            "   EDUCATION_5  EDUCATION_6  MARRIAGE_1  MARRIAGE_2  ...  PAY_6_0  PAY_6_1  \\\n",
            "0          0.0          1.0         1.0         0.0  ...      0.0      0.0   \n",
            "1          0.0          0.0         0.0         1.0  ...      1.0      0.0   \n",
            "2          0.0          0.0         1.0         0.0  ...      0.0      0.0   \n",
            "3          0.0          0.0         0.0         1.0  ...      1.0      0.0   \n",
            "4          0.0          0.0         1.0         0.0  ...      1.0      0.0   \n",
            "\n",
            "   PAY_6_2  PAY_6_3  PAY_6_4  PAY_6_5  PAY_6_6  PAY_6_7  PAY_6_8  PAY_6_9  \n",
            "0      0.0      0.0      0.0      0.0      0.0      0.0      0.0      0.0  \n",
            "1      0.0      0.0      0.0      0.0      0.0      0.0      0.0      0.0  \n",
            "2      1.0      0.0      0.0      0.0      0.0      0.0      0.0      0.0  \n",
            "3      0.0      0.0      0.0      0.0      0.0      0.0      0.0      0.0  \n",
            "4      0.0      0.0      0.0      0.0      0.0      0.0      0.0      0.0  \n",
            "\n",
            "[5 rows x 83 columns]\n"
          ]
        },
        {
          "output_type": "stream",
          "name": "stderr",
          "text": [
            "/usr/local/lib/python3.10/dist-packages/sklearn/preprocessing/_encoders.py:868: FutureWarning: `sparse` was renamed to `sparse_output` in version 1.2 and will be removed in 1.4. `sparse_output` is ignored unless you leave `sparse` to its default value.\n",
            "  warnings.warn(\n"
          ]
        }
      ]
    },
    {
      "cell_type": "code",
      "source": [
        "# Resetting index to align the dataframes before combining\n",
        "categorical_encoded_df_train.reset_index(drop=True, inplace=True) # training set\n",
        "cont_scaled_df_train.reset_index(drop=True, inplace=True) # training set\n",
        "\n",
        "categorical_encoded_df_test.reset_index(drop=True, inplace=True) # test set\n",
        "cont_scaled_df_test.reset_index(drop=True, inplace=True) # test set\n",
        "\n",
        "# Combining encoded categorical data and scaled numerical data of the training set\n",
        "combined_df_train = pd.concat([cont_scaled_df_train,categorical_encoded_df_train, df_train['default.payment.next.month']], axis=1)\n",
        "\n",
        "# Combining encoded categorical data and scaled numerical data of the test set\n",
        "combined_df_test= pd.concat([cont_scaled_df_test,categorical_encoded_df_test], axis=1)\n",
        "\n",
        "# Display the first few rows of the combined dataframe\n",
        "print(combined_df_train.head())\n",
        "print(combined_df_test.head())"
      ],
      "metadata": {
        "colab": {
          "base_uri": "https://localhost:8080/"
        },
        "id": "Fc081xxG_DcK",
        "outputId": "bfc36d25-76ac-45fc-f743-4e822a79f197"
      },
      "execution_count": null,
      "outputs": [
        {
          "output_type": "stream",
          "name": "stdout",
          "text": [
            "   LIMIT_BAL       AGE  BILL_AMT1  BILL_AMT2  BILL_AMT3  BILL_AMT4  BILL_AMT5  \\\n",
            "0  -0.902690 -1.237370  -0.659401  -0.657623  -0.653395  -0.558590  -0.564919   \n",
            "1  -0.751263 -1.237370   0.123571   0.174192   0.222944   0.299113   0.397532   \n",
            "2   1.898720  0.816144  -0.573530  -0.484216  -0.572498  -0.613365  -0.597173   \n",
            "3  -1.054118  1.896941  -0.680080  -0.679090  -0.618263  -0.598931  -0.584702   \n",
            "4  -0.902690  1.464622  -0.427412  -0.411319  -0.357541  -0.331676  -0.296197   \n",
            "\n",
            "   BILL_AMT6  PAY_AMT1  PAY_AMT2  ...  PAY_6_1  PAY_6_2  PAY_6_3  PAY_6_4  \\\n",
            "0  -0.630095 -0.264370 -0.244519  ...      0.0      0.0      0.0      0.0   \n",
            "1   0.500862 -0.175510 -0.171175  ...      0.0      0.0      0.0      0.0   \n",
            "2  -0.540866  0.526037  0.097548  ...      0.0      0.0      0.0      0.0   \n",
            "3  -0.635727 -0.362190 -0.116218  ...      0.0      0.0      0.0      0.0   \n",
            "4  -0.272334 -0.299963 -0.154688  ...      0.0      0.0      0.0      0.0   \n",
            "\n",
            "   PAY_6_5  PAY_6_6  PAY_6_7  PAY_6_8  PAY_6_9  default.payment.next.month  \n",
            "0      0.0      0.0      0.0      0.0      0.0                           0  \n",
            "1      0.0      0.0      0.0      0.0      0.0                           0  \n",
            "2      0.0      0.0      0.0      0.0      0.0                           0  \n",
            "3      0.0      0.0      0.0      0.0      0.0                           1  \n",
            "4      0.0      0.0      0.0      0.0      0.0                           0  \n",
            "\n",
            "[5 rows x 98 columns]\n",
            "   LIMIT_BAL       AGE  BILL_AMT1  BILL_AMT2  BILL_AMT3  BILL_AMT4  BILL_AMT5  \\\n",
            "0  -0.630510  0.620300   1.634425   1.512066   1.351052  -0.369743  -0.607774   \n",
            "1  -0.863285 -0.044189  -0.029025  -0.424391  -0.422265  -0.382195  -0.355548   \n",
            "2  -0.630510  0.731049  -0.452793  -0.420992  -0.387009  -0.345811  -0.307403   \n",
            "3  -0.009777 -0.930174   0.713256   0.435431   0.536011  -0.034137   0.033896   \n",
            "4  -1.018468 -0.597929  -0.571248  -0.515319  -0.477150  -0.414975  -0.375876   \n",
            "\n",
            "   BILL_AMT6  PAY_AMT1  PAY_AMT2  ...  PAY_6_0  PAY_6_1  PAY_6_2  PAY_6_3  \\\n",
            "0  -0.444210 -0.082065 -0.172661  ...      0.0      0.0      0.0      0.0   \n",
            "1  -0.330376 -0.279571  0.078449  ...      1.0      0.0      0.0      0.0   \n",
            "2  -0.293458 -0.277090 -0.295516  ...      0.0      0.0      1.0      0.0   \n",
            "3  -0.646624 -0.135306 -0.160510  ...      1.0      0.0      0.0      0.0   \n",
            "4  -0.308253 -0.177841 -0.275265  ...      1.0      0.0      0.0      0.0   \n",
            "\n",
            "   PAY_6_4  PAY_6_5  PAY_6_6  PAY_6_7  PAY_6_8  PAY_6_9  \n",
            "0      0.0      0.0      0.0      0.0      0.0      0.0  \n",
            "1      0.0      0.0      0.0      0.0      0.0      0.0  \n",
            "2      0.0      0.0      0.0      0.0      0.0      0.0  \n",
            "3      0.0      0.0      0.0      0.0      0.0      0.0  \n",
            "4      0.0      0.0      0.0      0.0      0.0      0.0  \n",
            "\n",
            "[5 rows x 97 columns]\n"
          ]
        }
      ]
    },
    {
      "cell_type": "markdown",
      "metadata": {
        "id": "D_e0eeNz55Cg"
      },
      "source": [
        "**Splitting training data into training and validation set (70:30 ratio) (the code has been provided)**"
      ]
    },
    {
      "cell_type": "code",
      "source": [
        "# Our combined DataFrame after preprocessing is named combined_df_train\n",
        "# And the target variable is ''default.payment.next.month'\n",
        "\n",
        "# Separating the features and the target variable\n",
        "\n",
        "X =   combined_df_train.drop(['default.payment.next.month'], axis ='columns')\n",
        "y =   combined_df_train['default.payment.next.month']\n",
        "\n",
        "from sklearn.model_selection import train_test_split\n",
        "X_train, X_val, y_train, y_val = train_test_split(X, y, test_size=0.3, random_state=42)"
      ],
      "metadata": {
        "id": "0hEipeW2PGp_"
      },
      "execution_count": null,
      "outputs": []
    },
    {
      "cell_type": "markdown",
      "metadata": {
        "id": "-BteEz3T83c7"
      },
      "source": [
        "Print the shape of X_train, y_train, X_val"
      ]
    },
    {
      "cell_type": "code",
      "execution_count": null,
      "metadata": {
        "id": "IAmEc8hJ86sF",
        "colab": {
          "base_uri": "https://localhost:8080/"
        },
        "outputId": "fa603f2a-b3c5-4f5a-9116-b8d7986d0144"
      },
      "outputs": [
        {
          "output_type": "stream",
          "name": "stdout",
          "text": [
            "Shape of X_train is (2789, 97)\n",
            "Shape of y_train is (2789,)\n",
            "Shape of X_val is (1196, 97)\n"
          ]
        }
      ],
      "source": [
        "print(f'Shape of X_train is {X_train.shape}')\n",
        "print(f'Shape of y_train is {y_train.shape}')\n",
        "print(f'Shape of X_val is {X_val.shape}')"
      ]
    },
    {
      "cell_type": "markdown",
      "metadata": {
        "id": "6D2n5k-L-BrM"
      },
      "source": [
        "## Logistic Regression\n",
        "\n",
        "As previously mentioned, the scikit-learn classification API makes it easy to train a classifier.\n",
        "\n",
        "\n",
        "Use LogisticRegression from sklearn.linear_model to make a logistic regression classifier."
      ]
    },
    {
      "cell_type": "code",
      "execution_count": null,
      "metadata": {
        "id": "NNJEfTx8-Mqj"
      },
      "outputs": [],
      "source": [
        "from sklearn.linear_model import LogisticRegression"
      ]
    },
    {
      "cell_type": "code",
      "execution_count": null,
      "metadata": {
        "id": "236FjZN8-S8x",
        "colab": {
          "base_uri": "https://localhost:8080/",
          "height": 218
        },
        "outputId": "d46f9f16-43e5-4a77-9176-3ad9c6534cfa"
      },
      "outputs": [
        {
          "output_type": "stream",
          "name": "stderr",
          "text": [
            "/usr/local/lib/python3.10/dist-packages/sklearn/linear_model/_logistic.py:458: ConvergenceWarning: lbfgs failed to converge (status=1):\n",
            "STOP: TOTAL NO. of ITERATIONS REACHED LIMIT.\n",
            "\n",
            "Increase the number of iterations (max_iter) or scale the data as shown in:\n",
            "    https://scikit-learn.org/stable/modules/preprocessing.html\n",
            "Please also refer to the documentation for alternative solver options:\n",
            "    https://scikit-learn.org/stable/modules/linear_model.html#logistic-regression\n",
            "  n_iter_i = _check_optimize_result(\n"
          ]
        },
        {
          "output_type": "execute_result",
          "data": {
            "text/plain": [
              "LogisticRegression()"
            ],
            "text/html": [
              "<style>#sk-container-id-7 {color: black;background-color: white;}#sk-container-id-7 pre{padding: 0;}#sk-container-id-7 div.sk-toggleable {background-color: white;}#sk-container-id-7 label.sk-toggleable__label {cursor: pointer;display: block;width: 100%;margin-bottom: 0;padding: 0.3em;box-sizing: border-box;text-align: center;}#sk-container-id-7 label.sk-toggleable__label-arrow:before {content: \"▸\";float: left;margin-right: 0.25em;color: #696969;}#sk-container-id-7 label.sk-toggleable__label-arrow:hover:before {color: black;}#sk-container-id-7 div.sk-estimator:hover label.sk-toggleable__label-arrow:before {color: black;}#sk-container-id-7 div.sk-toggleable__content {max-height: 0;max-width: 0;overflow: hidden;text-align: left;background-color: #f0f8ff;}#sk-container-id-7 div.sk-toggleable__content pre {margin: 0.2em;color: black;border-radius: 0.25em;background-color: #f0f8ff;}#sk-container-id-7 input.sk-toggleable__control:checked~div.sk-toggleable__content {max-height: 200px;max-width: 100%;overflow: auto;}#sk-container-id-7 input.sk-toggleable__control:checked~label.sk-toggleable__label-arrow:before {content: \"▾\";}#sk-container-id-7 div.sk-estimator input.sk-toggleable__control:checked~label.sk-toggleable__label {background-color: #d4ebff;}#sk-container-id-7 div.sk-label input.sk-toggleable__control:checked~label.sk-toggleable__label {background-color: #d4ebff;}#sk-container-id-7 input.sk-hidden--visually {border: 0;clip: rect(1px 1px 1px 1px);clip: rect(1px, 1px, 1px, 1px);height: 1px;margin: -1px;overflow: hidden;padding: 0;position: absolute;width: 1px;}#sk-container-id-7 div.sk-estimator {font-family: monospace;background-color: #f0f8ff;border: 1px dotted black;border-radius: 0.25em;box-sizing: border-box;margin-bottom: 0.5em;}#sk-container-id-7 div.sk-estimator:hover {background-color: #d4ebff;}#sk-container-id-7 div.sk-parallel-item::after {content: \"\";width: 100%;border-bottom: 1px solid gray;flex-grow: 1;}#sk-container-id-7 div.sk-label:hover label.sk-toggleable__label {background-color: #d4ebff;}#sk-container-id-7 div.sk-serial::before {content: \"\";position: absolute;border-left: 1px solid gray;box-sizing: border-box;top: 0;bottom: 0;left: 50%;z-index: 0;}#sk-container-id-7 div.sk-serial {display: flex;flex-direction: column;align-items: center;background-color: white;padding-right: 0.2em;padding-left: 0.2em;position: relative;}#sk-container-id-7 div.sk-item {position: relative;z-index: 1;}#sk-container-id-7 div.sk-parallel {display: flex;align-items: stretch;justify-content: center;background-color: white;position: relative;}#sk-container-id-7 div.sk-item::before, #sk-container-id-7 div.sk-parallel-item::before {content: \"\";position: absolute;border-left: 1px solid gray;box-sizing: border-box;top: 0;bottom: 0;left: 50%;z-index: -1;}#sk-container-id-7 div.sk-parallel-item {display: flex;flex-direction: column;z-index: 1;position: relative;background-color: white;}#sk-container-id-7 div.sk-parallel-item:first-child::after {align-self: flex-end;width: 50%;}#sk-container-id-7 div.sk-parallel-item:last-child::after {align-self: flex-start;width: 50%;}#sk-container-id-7 div.sk-parallel-item:only-child::after {width: 0;}#sk-container-id-7 div.sk-dashed-wrapped {border: 1px dashed gray;margin: 0 0.4em 0.5em 0.4em;box-sizing: border-box;padding-bottom: 0.4em;background-color: white;}#sk-container-id-7 div.sk-label label {font-family: monospace;font-weight: bold;display: inline-block;line-height: 1.2em;}#sk-container-id-7 div.sk-label-container {text-align: center;}#sk-container-id-7 div.sk-container {/* jupyter's `normalize.less` sets `[hidden] { display: none; }` but bootstrap.min.css set `[hidden] { display: none !important; }` so we also need the `!important` here to be able to override the default hidden behavior on the sphinx rendered scikit-learn.org. See: https://github.com/scikit-learn/scikit-learn/issues/21755 */display: inline-block !important;position: relative;}#sk-container-id-7 div.sk-text-repr-fallback {display: none;}</style><div id=\"sk-container-id-7\" class=\"sk-top-container\"><div class=\"sk-text-repr-fallback\"><pre>LogisticRegression()</pre><b>In a Jupyter environment, please rerun this cell to show the HTML representation or trust the notebook. <br />On GitHub, the HTML representation is unable to render, please try loading this page with nbviewer.org.</b></div><div class=\"sk-container\" hidden><div class=\"sk-item\"><div class=\"sk-estimator sk-toggleable\"><input class=\"sk-toggleable__control sk-hidden--visually\" id=\"sk-estimator-id-7\" type=\"checkbox\" checked><label for=\"sk-estimator-id-7\" class=\"sk-toggleable__label sk-toggleable__label-arrow\">LogisticRegression</label><div class=\"sk-toggleable__content\"><pre>LogisticRegression()</pre></div></div></div></div></div>"
            ]
          },
          "metadata": {},
          "execution_count": 161
        }
      ],
      "source": [
        "# First, initialize the classifier with default parameters\n",
        "# then fit the classifier on training data and labels\n",
        "\n",
        "### WRITE CODE HERE ###\n",
        "log_class = LogisticRegression()\n",
        "log_class.fit(X_train, y_train)\n"
      ]
    },
    {
      "cell_type": "code",
      "execution_count": null,
      "metadata": {
        "id": "RpE2jWXEFgW1",
        "colab": {
          "base_uri": "https://localhost:8080/",
          "height": 75
        },
        "outputId": "f34ed916-d64e-40a9-99ba-3b32f92831d3"
      },
      "outputs": [
        {
          "output_type": "execute_result",
          "data": {
            "text/plain": [
              "LogisticRegression(max_iter=200)"
            ],
            "text/html": [
              "<style>#sk-container-id-8 {color: black;background-color: white;}#sk-container-id-8 pre{padding: 0;}#sk-container-id-8 div.sk-toggleable {background-color: white;}#sk-container-id-8 label.sk-toggleable__label {cursor: pointer;display: block;width: 100%;margin-bottom: 0;padding: 0.3em;box-sizing: border-box;text-align: center;}#sk-container-id-8 label.sk-toggleable__label-arrow:before {content: \"▸\";float: left;margin-right: 0.25em;color: #696969;}#sk-container-id-8 label.sk-toggleable__label-arrow:hover:before {color: black;}#sk-container-id-8 div.sk-estimator:hover label.sk-toggleable__label-arrow:before {color: black;}#sk-container-id-8 div.sk-toggleable__content {max-height: 0;max-width: 0;overflow: hidden;text-align: left;background-color: #f0f8ff;}#sk-container-id-8 div.sk-toggleable__content pre {margin: 0.2em;color: black;border-radius: 0.25em;background-color: #f0f8ff;}#sk-container-id-8 input.sk-toggleable__control:checked~div.sk-toggleable__content {max-height: 200px;max-width: 100%;overflow: auto;}#sk-container-id-8 input.sk-toggleable__control:checked~label.sk-toggleable__label-arrow:before {content: \"▾\";}#sk-container-id-8 div.sk-estimator input.sk-toggleable__control:checked~label.sk-toggleable__label {background-color: #d4ebff;}#sk-container-id-8 div.sk-label input.sk-toggleable__control:checked~label.sk-toggleable__label {background-color: #d4ebff;}#sk-container-id-8 input.sk-hidden--visually {border: 0;clip: rect(1px 1px 1px 1px);clip: rect(1px, 1px, 1px, 1px);height: 1px;margin: -1px;overflow: hidden;padding: 0;position: absolute;width: 1px;}#sk-container-id-8 div.sk-estimator {font-family: monospace;background-color: #f0f8ff;border: 1px dotted black;border-radius: 0.25em;box-sizing: border-box;margin-bottom: 0.5em;}#sk-container-id-8 div.sk-estimator:hover {background-color: #d4ebff;}#sk-container-id-8 div.sk-parallel-item::after {content: \"\";width: 100%;border-bottom: 1px solid gray;flex-grow: 1;}#sk-container-id-8 div.sk-label:hover label.sk-toggleable__label {background-color: #d4ebff;}#sk-container-id-8 div.sk-serial::before {content: \"\";position: absolute;border-left: 1px solid gray;box-sizing: border-box;top: 0;bottom: 0;left: 50%;z-index: 0;}#sk-container-id-8 div.sk-serial {display: flex;flex-direction: column;align-items: center;background-color: white;padding-right: 0.2em;padding-left: 0.2em;position: relative;}#sk-container-id-8 div.sk-item {position: relative;z-index: 1;}#sk-container-id-8 div.sk-parallel {display: flex;align-items: stretch;justify-content: center;background-color: white;position: relative;}#sk-container-id-8 div.sk-item::before, #sk-container-id-8 div.sk-parallel-item::before {content: \"\";position: absolute;border-left: 1px solid gray;box-sizing: border-box;top: 0;bottom: 0;left: 50%;z-index: -1;}#sk-container-id-8 div.sk-parallel-item {display: flex;flex-direction: column;z-index: 1;position: relative;background-color: white;}#sk-container-id-8 div.sk-parallel-item:first-child::after {align-self: flex-end;width: 50%;}#sk-container-id-8 div.sk-parallel-item:last-child::after {align-self: flex-start;width: 50%;}#sk-container-id-8 div.sk-parallel-item:only-child::after {width: 0;}#sk-container-id-8 div.sk-dashed-wrapped {border: 1px dashed gray;margin: 0 0.4em 0.5em 0.4em;box-sizing: border-box;padding-bottom: 0.4em;background-color: white;}#sk-container-id-8 div.sk-label label {font-family: monospace;font-weight: bold;display: inline-block;line-height: 1.2em;}#sk-container-id-8 div.sk-label-container {text-align: center;}#sk-container-id-8 div.sk-container {/* jupyter's `normalize.less` sets `[hidden] { display: none; }` but bootstrap.min.css set `[hidden] { display: none !important; }` so we also need the `!important` here to be able to override the default hidden behavior on the sphinx rendered scikit-learn.org. See: https://github.com/scikit-learn/scikit-learn/issues/21755 */display: inline-block !important;position: relative;}#sk-container-id-8 div.sk-text-repr-fallback {display: none;}</style><div id=\"sk-container-id-8\" class=\"sk-top-container\"><div class=\"sk-text-repr-fallback\"><pre>LogisticRegression(max_iter=200)</pre><b>In a Jupyter environment, please rerun this cell to show the HTML representation or trust the notebook. <br />On GitHub, the HTML representation is unable to render, please try loading this page with nbviewer.org.</b></div><div class=\"sk-container\" hidden><div class=\"sk-item\"><div class=\"sk-estimator sk-toggleable\"><input class=\"sk-toggleable__control sk-hidden--visually\" id=\"sk-estimator-id-8\" type=\"checkbox\" checked><label for=\"sk-estimator-id-8\" class=\"sk-toggleable__label sk-toggleable__label-arrow\">LogisticRegression</label><div class=\"sk-toggleable__content\"><pre>LogisticRegression(max_iter=200)</pre></div></div></div></div></div>"
            ]
          },
          "metadata": {},
          "execution_count": 162
        }
      ],
      "source": [
        "# If there is any ConvergenceWarning, increase the number of iterations. (Let max_iter = 200)\n",
        "### WRITE CODE HERE ###\n",
        "log_class = LogisticRegression(max_iter= 200)\n",
        "log_class.fit(X_train, y_train)"
      ]
    },
    {
      "cell_type": "code",
      "execution_count": null,
      "metadata": {
        "id": "UKR98kFw_lQO",
        "colab": {
          "base_uri": "https://localhost:8080/"
        },
        "outputId": "200be6a4-924b-4268-f701-f7c51a5aeffb"
      },
      "outputs": [
        {
          "output_type": "execute_result",
          "data": {
            "text/plain": [
              "array([0, 0, 1, ..., 0, 0, 0])"
            ]
          },
          "metadata": {},
          "execution_count": 163
        }
      ],
      "source": [
        "# predict the output for validation dataset\n",
        "### WRITE CODE HERE\n",
        "y_preds = log_class.predict(X_val)\n",
        "y_preds"
      ]
    },
    {
      "cell_type": "code",
      "source": [
        "y_preds.shape"
      ],
      "metadata": {
        "colab": {
          "base_uri": "https://localhost:8080/"
        },
        "id": "zc94yvX7hYXV",
        "outputId": "91f30ab3-3f4d-4c43-b000-7ef252bb6f15"
      },
      "execution_count": null,
      "outputs": [
        {
          "output_type": "execute_result",
          "data": {
            "text/plain": [
              "(1196,)"
            ]
          },
          "metadata": {},
          "execution_count": 165
        }
      ]
    },
    {
      "cell_type": "markdown",
      "metadata": {
        "id": "gAaWBNcsAlF2"
      },
      "source": [
        "Implement my_precision(), my_recall(), my_accuracy() by yourselves"
      ]
    },
    {
      "cell_type": "code",
      "execution_count": null,
      "metadata": {
        "id": "SC-_P6AoAuQJ"
      },
      "outputs": [],
      "source": [
        "## defining the new functions\n",
        "\n",
        "def my_accuracy(y, y_preds): #(TP+TN)/(TP+FP+FN+TN)\n",
        "  fp = np.sum((y_preds == 1) & (y == 0))\n",
        "  tp = np.sum((y_preds == 1) & (y == 1))\n",
        "  fn = np.sum((y_preds == 0) & (y == 1))\n",
        "  tn = np.sum((y_preds == 0) & (y == 0))\n",
        "  accuracy = (tp+tn) / (tp+ tn+fp+fn)\n",
        "  return accuracy\n",
        "\n",
        "\n",
        "\n",
        "def my_precision(y, y_preds): #TP/(TP+FP)\n",
        "  fp = np.sum((y_preds == 1) & (y == 0))\n",
        "  tp = np.sum((y_preds == 1) & (y == 1))\n",
        "  fn = np.sum((y_preds == 0) & (y == 1))\n",
        "  tn = np.sum((y_preds == 0) & (y == 0))\n",
        "  precision = tp / (tp+fp)\n",
        "  return precision\n",
        "\n",
        "\n",
        "def my_recall(y, y_preds): #TP/(TP+FN)\n",
        "  fp = np.sum((y_preds == 1) & (y == 0))\n",
        "  tp = np.sum((y_preds == 1) & (y == 1))\n",
        "  fn = np.sum((y_preds == 0) & (y == 1))\n",
        "  tn = np.sum((y_preds == 0) & (y == 0))\n",
        "  recall= tp / (tp+fn)\n",
        "  return recall\n",
        "\n",
        "\n"
      ]
    },
    {
      "cell_type": "markdown",
      "metadata": {
        "id": "6x6-GqJ5Mp06"
      },
      "source": [
        "Use your above functions to compute precision, recall, and accuracy of your model on validation set:"
      ]
    },
    {
      "cell_type": "code",
      "source": [
        "## printing the three scores\n",
        "\n",
        "print(f'Accuracy is: {my_accuracy(y_val,y_preds)}')\n",
        "print(f'Precision is: {my_precision(y_val, y_preds)}')\n",
        "print(f'Recall is: {my_recall(y_val, y_preds)}')"
      ],
      "metadata": {
        "colab": {
          "base_uri": "https://localhost:8080/"
        },
        "id": "7TmFZ4_3AfrN",
        "outputId": "6f186eae-e040-44ec-e7a1-57eacf783910"
      },
      "execution_count": null,
      "outputs": [
        {
          "output_type": "stream",
          "name": "stdout",
          "text": [
            "Accuracy is: 0.8219063545150501\n",
            "Precision is: 0.6610169491525424\n",
            "Recall is: 0.43333333333333335\n"
          ]
        }
      ]
    },
    {
      "cell_type": "code",
      "execution_count": null,
      "metadata": {
        "id": "MsQSYMcaMl1S",
        "colab": {
          "base_uri": "https://localhost:8080/"
        },
        "outputId": "ad419c6f-757d-4e52-f20a-68669d17f7af"
      },
      "outputs": [
        {
          "output_type": "execute_result",
          "data": {
            "text/plain": [
              "0.8219063545150501"
            ]
          },
          "metadata": {},
          "execution_count": 167
        }
      ],
      "source": [
        "### Validating the three scores using the sklearn metrics\n",
        "from sklearn.metrics import accuracy_score, precision_score, recall_score\n",
        "accuracy_score(y_val, y_preds)"
      ]
    },
    {
      "cell_type": "code",
      "source": [
        "precision_score(y_val, y_preds)"
      ],
      "metadata": {
        "colab": {
          "base_uri": "https://localhost:8080/"
        },
        "id": "gXyvUjOTG1-Q",
        "outputId": "f3e5233b-af0b-4c9a-8f6d-f37639f580fa"
      },
      "execution_count": null,
      "outputs": [
        {
          "output_type": "execute_result",
          "data": {
            "text/plain": [
              "0.6610169491525424"
            ]
          },
          "metadata": {},
          "execution_count": 168
        }
      ]
    },
    {
      "cell_type": "code",
      "source": [
        "recall_score(y_val, y_preds)"
      ],
      "metadata": {
        "colab": {
          "base_uri": "https://localhost:8080/"
        },
        "id": "Lzq5LZwwG7dJ",
        "outputId": "ff0394d1-8900-4289-9e45-efffb4b8feca"
      },
      "execution_count": null,
      "outputs": [
        {
          "output_type": "execute_result",
          "data": {
            "text/plain": [
              "0.43333333333333335"
            ]
          },
          "metadata": {},
          "execution_count": 169
        }
      ]
    },
    {
      "cell_type": "markdown",
      "metadata": {
        "id": "RKXWHHJ1OsMZ"
      },
      "source": [
        "Thus, we see that the three functions are well defined and give is the same results for Accuracy, Precision and Recall as the sklearn metrics and they are: <br>\n",
        "Q. Accuracy<br>\n",
        "Ans - 0.8219063545150501\n",
        "\n",
        "Q. Precision<br>\n",
        "Ans - 0.6610169491525424\n",
        "\n",
        "Q. Recall<br>\n",
        "Ans - 0.43333333333333335\n",
        "\n",
        "Q. Which metric (accuracy, precision, recall) is more appropriate and in what cases? Will there be scenarios where it is better to use precision than accuracy? Explain. <br>\n",
        "Ans -  \n",
        "\n",
        "- Accuracy measures the percentage of correct predictions made by model. It is particlarly effective in in scenarios when the classes are balanced. Else, it gives a biased view of the model performance.<br>\n",
        "- Precision measures the accuracy of the positive predictions. It is particularly important in scenarios where the cost of a false positive is high. <br>\n",
        "- Recall on the other hand is also known as Sensitivity and it measures the ability of the model to identify all relevant instances. It is especially crucial in cases where missing a positive instance is costly.\n",
        "\n",
        "It is better to use precision than accuracy in situations where we have unbalances classes as a result of which Accuracy will not truly represent the predictive performance of the model. Furthemore, there is also a trade off that is see between precision and recall and either of the two measures are chosen depending on the scenario. For instance, in case of loan default(where missing a default activity is costly), recall might be prioritized and it is better we have a high recall as the banks don’t want to lose money and it would be a good idea to alarm the bank even if there is a slight doubt about defaulter. In contrast, in precision machinery manufacturing, precision would be more critical.\n",
        "\n",
        "Q. Which metric is suitable in this case? <br>\n",
        "Ans - As mentioned above, in the case of detecting a default on the loan, missing a default activity on the loan is costy thus the recall metric is more suited for this case."
      ]
    },
    {
      "cell_type": "code",
      "source": [
        "## Cecilia"
      ],
      "metadata": {
        "id": "krcA6DTgV52G"
      },
      "execution_count": null,
      "outputs": []
    },
    {
      "cell_type": "markdown",
      "metadata": {
        "id": "6Bflc8MVP3K7"
      },
      "source": [
        "### ROC curve\n",
        "\n",
        "Use roc_Curve from sklearn.metrics and use matplotlib.pyplot to plot the ROC curve. Use validation set to make predictions and to draw ROC curve."
      ]
    },
    {
      "cell_type": "code",
      "execution_count": null,
      "metadata": {
        "id": "51E1Wc2QQDqt",
        "colab": {
          "base_uri": "https://localhost:8080/",
          "height": 472
        },
        "outputId": "99773486-17a9-4660-800c-3fb40e77095e"
      },
      "outputs": [
        {
          "output_type": "display_data",
          "data": {
            "text/plain": [
              "<Figure size 640x480 with 1 Axes>"
            ],
            "image/png": "[encoded data removed]"
          },
          "metadata": {}
        }
      ],
      "source": [
        "# Plot the ROC curve by giving appropriate names for title and axes.\n",
        "from sklearn.metrics import roc_curve, auc\n",
        "import sklearn.metrics as metrics\n",
        "import matplotlib.pyplot as plt\n",
        "\n",
        "# Predict probabilities\n",
        "y_probs = log_class.predict_proba(X_val)[:, 1]\n",
        "\n",
        "# Compute ROC curve and ROC area\n",
        "fpr, tpr, thresholds = roc_curve(y_val, y_probs)\n",
        "roc_auc = auc(fpr, tpr)\n",
        "\n",
        "# Plotting the ROC curve\n",
        "plt.figure()\n",
        "plt.plot(fpr, tpr, color='darkorange', lw=2, label='ROC curve (area = %0.2f)' % roc_auc)\n",
        "plt.plot([0, 1], [0, 1], color='navy', lw=2, linestyle='--')\n",
        "plt.xlim([0.0, 1.0])\n",
        "plt.ylim([0.0, 1.05])\n",
        "plt.xlabel('False Positive Rate')\n",
        "plt.ylabel('True Positive Rate')\n",
        "plt.title('Receiver Operating Characteristic')\n",
        "plt.legend(loc=\"lower right\")\n",
        "plt.show()"
      ]
    },
    {
      "cell_type": "markdown",
      "metadata": {
        "id": "OK9uSsm4Qdfu"
      },
      "source": [
        "Q. What is the AUC obtained?<br>\n",
        "Ans - 0.77"
      ]
    },
    {
      "cell_type": "markdown",
      "metadata": {
        "id": "E9X_maKDT63P"
      },
      "source": [
        "## Hyperparameters\n",
        "\n",
        "\"Model tuning\" refers to model adjustments to better fit the data, which is separate from \"fitting\" or \"training\" the model.\n"
      ]
    },
    {
      "cell_type": "markdown",
      "metadata": {
        "id": "OQMd79-sUEUr"
      },
      "source": [
        "Build a model with hyperparameter 'C' set to 0.1 and penalty set to 'l1'. Make predictions on validation set and compute accuracy, precision and recall."
      ]
    },
    {
      "cell_type": "code",
      "execution_count": null,
      "metadata": {
        "id": "1n6cx2_KUFYw",
        "colab": {
          "base_uri": "https://localhost:8080/"
        },
        "outputId": "97d8ce2c-50e0-4f02-914e-935a396923da"
      },
      "outputs": [
        {
          "output_type": "stream",
          "name": "stdout",
          "text": [
            "Accuracy is: 0.8252508361204013\n",
            "Precision is: 0.6804733727810651\n",
            "Recall is: 0.42592592592592593\n"
          ]
        }
      ],
      "source": [
        "### WRITE CODE HERE\n",
        "from sklearn.model_selection import GridSearchCV\n",
        "from sklearn.linear_model import LogisticRegression\n",
        "\n",
        "# Define the logistic regression classifier\n",
        "classifier1 = LogisticRegression(penalty = 'l1', C = 0.1, solver = 'liblinear')\n",
        "\n",
        "log_hyper1 = classifier1.fit(X_train, y_train)\n",
        "\n",
        "y_preds1 = log_hyper1.predict(X_val)\n",
        "\n",
        "print(f'Accuracy is: {my_accuracy(y_val,y_preds1)}')\n",
        "print(f'Precision is: {my_precision(y_val, y_preds1)}')\n",
        "print(f'Recall is: {my_recall(y_val, y_preds1)}')"
      ]
    },
    {
      "cell_type": "markdown",
      "metadata": {
        "id": "kFYJ5hU-U7hL"
      },
      "source": [
        "Build a model with hyperparameter 'C' set to 0.5 and penalty set to 'l1'. Make predictions on validation set and compute accuracy, precision and recall."
      ]
    },
    {
      "cell_type": "code",
      "execution_count": null,
      "metadata": {
        "id": "3fnH0Pt9U8KT",
        "colab": {
          "base_uri": "https://localhost:8080/"
        },
        "outputId": "5ce935a3-5f8e-48e7-e0aa-24b7181c351c"
      },
      "outputs": [
        {
          "output_type": "stream",
          "name": "stdout",
          "text": [
            "Accuracy is: 0.8235785953177257\n",
            "Precision is: 0.6685714285714286\n",
            "Recall is: 0.43333333333333335\n"
          ]
        }
      ],
      "source": [
        "### WRITE CODE HERE\n",
        "# Define the logistic regression classifier\n",
        "classifier2 = LogisticRegression(penalty = 'l1', C = 0.5, solver = 'liblinear')\n",
        "\n",
        "log_hyper2 = classifier2.fit(X_train, y_train)\n",
        "\n",
        "y_preds2 = log_hyper2.predict(X_val)\n",
        "\n",
        "print(f'Accuracy is: {my_accuracy(y_val,y_preds2)}')\n",
        "print(f'Precision is: {my_precision(y_val, y_preds2)}')\n",
        "print(f'Recall is: {my_recall(y_val, y_preds2)}')"
      ]
    },
    {
      "cell_type": "markdown",
      "metadata": {
        "id": "pWQj9WiUVMHT"
      },
      "source": [
        "Build a model with hyperparameter 'C' set to 0.1 and penalty set to 'l2'. Make predictions on validation set and compute accuracy, precision and recall."
      ]
    },
    {
      "cell_type": "code",
      "execution_count": null,
      "metadata": {
        "id": "x6Tvpz7wVPAW",
        "colab": {
          "base_uri": "https://localhost:8080/"
        },
        "outputId": "79b27b90-45ee-42b6-9106-fa36231ff702"
      },
      "outputs": [
        {
          "output_type": "stream",
          "name": "stdout",
          "text": [
            "Accuracy is: 0.8210702341137124\n",
            "Precision is: 0.6627906976744186\n",
            "Recall is: 0.4222222222222222\n"
          ]
        }
      ],
      "source": [
        "### WRITE CODE HERE\n",
        "# Define the logistic regression classifier\n",
        "classifier3 = LogisticRegression(penalty = 'l2', C = 0.1, solver = 'liblinear')\n",
        "\n",
        "log_hyper3 = classifier3.fit(X_train, y_train)\n",
        "\n",
        "y_preds3 = log_hyper3.predict(X_val)\n",
        "\n",
        "print(f'Accuracy is: {my_accuracy(y_val,y_preds3)}')\n",
        "print(f'Precision is: {my_precision(y_val, y_preds3)}')\n",
        "print(f'Recall is: {my_recall(y_val, y_preds3)}')"
      ]
    },
    {
      "cell_type": "markdown",
      "metadata": {
        "id": "5ihWSDXiVWta"
      },
      "source": [
        "Build a model with hyperparameter 'C' set to 0.5 and penalty set to 'l2'. Make predictions on validation set and compute accuracy, precision and recall. (Try to use a different solver or increase the number of iterations if there is a ConvergenceWarning)"
      ]
    },
    {
      "cell_type": "code",
      "execution_count": null,
      "metadata": {
        "id": "9ggEfBX4VZdM",
        "colab": {
          "base_uri": "https://localhost:8080/"
        },
        "outputId": "0aa5e312-e3e3-49c5-d1dc-08985de5e946"
      },
      "outputs": [
        {
          "output_type": "stream",
          "name": "stdout",
          "text": [
            "Accuracy is: 0.822742474916388\n",
            "Precision is: 0.6647727272727273\n",
            "Recall is: 0.43333333333333335\n"
          ]
        }
      ],
      "source": [
        "### WRITE CODE HERE\n",
        "# Define the logistic regression classifier\n",
        "classifier4 = LogisticRegression(penalty = 'l2', C = 0.5, solver = 'liblinear')\n",
        "\n",
        "log_hyper4 = classifier4.fit(X_train, y_train)\n",
        "\n",
        "y_preds4 = log_hyper4.predict(X_val)\n",
        "\n",
        "print(f'Accuracy is: {my_accuracy(y_val,y_preds4)}')\n",
        "print(f'Precision is: {my_precision(y_val, y_preds4)}')\n",
        "print(f'Recall is: {my_recall(y_val, y_preds4)}')"
      ]
    },
    {
      "cell_type": "markdown",
      "metadata": {
        "id": "bXnNF73CWpYz"
      },
      "source": [
        "Q. Which of the above models is better?<br>\n",
        "Ans-The second model which utilizes a hyperparameter 'C' set to 0.5 and an'l1' penalty, along with the fourth model, characterized by the same 'C' value of 0.5 but with an 'l2' penalty, both exhibit the highest recall rate at 43.33%. However, given that the second model also surpasses the fourth model in terms of precision and accuracy, it is selected as our preferred model."
      ]
    },
    {
      "cell_type": "markdown",
      "metadata": {
        "id": "dRBjfOnjXFMj"
      },
      "source": [
        "# Test set\n",
        "\n",
        "You have worked on training and validation dataset so far, but test data does not include the labels. Choose the best hyperparameter values as seen in previous section and build a model. Use this model to make predictions on test set."
      ]
    },
    {
      "cell_type": "code",
      "execution_count": null,
      "metadata": {
        "id": "vJWNXQvHXKuM",
        "colab": {
          "base_uri": "https://localhost:8080/"
        },
        "outputId": "b33bde5e-eeff-4df4-c10f-06af7c45f8d5"
      },
      "outputs": [
        {
          "output_type": "execute_result",
          "data": {
            "text/plain": [
              "array([0, 0, 1, 0, 0, 0, 0, 0, 0, 0, 0, 1, 0, 0, 0, 0, 0, 0, 1, 0, 0, 0,\n",
              "       1, 0, 1, 0, 1, 0, 0, 1, 0, 0, 0, 0, 1, 0, 0, 0, 0, 0, 0, 0, 0, 0,\n",
              "       0, 0, 0, 0, 0, 0, 0, 0, 0, 0, 0, 1, 1, 0, 0, 0, 0, 0, 0, 0, 0, 0,\n",
              "       0, 0, 0, 0, 0, 0, 1, 0, 0, 0, 0, 0, 0, 0, 0, 0, 0, 0, 0, 0, 0, 0,\n",
              "       0, 0, 0, 0, 0, 0, 0, 0, 0, 0, 0, 0, 0, 0, 0, 0, 0, 0, 0, 0, 0, 0,\n",
              "       0, 0, 0, 0, 0, 1, 0, 0, 0, 0, 0, 0, 0, 0, 0, 0, 0, 0, 0, 0, 0, 0,\n",
              "       0, 0, 0, 0, 1, 1, 1, 0, 1, 0, 1, 0, 0, 1, 0, 0, 0, 0, 0, 0, 0, 0,\n",
              "       0, 0, 0, 0, 0, 0, 0, 0, 0, 0, 0, 0, 0, 0, 0, 0, 0, 0, 0, 1, 0, 0,\n",
              "       0, 0, 0, 0, 0, 0, 0, 0, 0, 0, 0, 0, 0, 0, 0, 0, 1, 1, 0, 1, 0, 0,\n",
              "       0, 0, 0, 0, 1, 1, 0, 0, 0, 0, 0, 0, 0, 0, 0, 0, 0, 0, 0, 0, 0, 0,\n",
              "       0, 0, 0, 0, 0, 0, 0, 0, 0, 0, 0, 0, 0, 0, 0, 0, 0, 0, 0, 0, 1, 0,\n",
              "       0, 0, 0, 0, 0, 0, 0, 0, 0, 0, 0, 0, 0, 0, 0, 0, 0, 0, 0, 0, 0, 0,\n",
              "       0, 1, 0, 0, 0, 0, 0, 0, 0, 1, 1, 0, 1, 0, 0, 0, 1, 1, 0, 0, 0, 0,\n",
              "       1, 0, 0, 0, 1, 0, 0, 0, 1, 0, 0, 0, 0, 0, 0, 0, 1, 0, 0, 0, 0, 0,\n",
              "       0, 0, 0, 0, 0, 0, 0, 1, 1, 0, 0, 0, 1, 0, 0, 0, 0, 0, 0, 1, 0, 0,\n",
              "       0, 0, 0, 0, 0, 0, 1, 0, 0, 1, 0, 0, 0, 0, 0, 1, 0, 0, 0, 0, 0, 0,\n",
              "       0, 0, 0, 0, 0, 1, 1, 0, 0, 0, 0, 0, 0, 0, 0, 0, 0, 0, 0, 1, 0, 1,\n",
              "       0, 0, 0, 0, 0, 0, 0, 0, 0, 0, 0, 0, 0, 0, 1, 0, 0, 1, 0, 0, 1, 0,\n",
              "       0, 0, 0, 0, 1, 1, 0, 0, 0, 1, 0, 0, 0, 0, 0, 0, 1, 0, 0, 0, 1, 0,\n",
              "       0, 0, 0, 0, 0, 1, 0, 0, 1, 0, 0, 0, 0, 0, 0, 0, 0, 0, 0, 0, 0, 0,\n",
              "       0, 0, 0, 0, 1, 0, 0, 0, 0, 0, 0, 1, 0, 0, 0, 0, 1, 0, 0, 0, 1, 1,\n",
              "       0, 0, 0, 0, 0, 0, 0, 0, 0, 0, 0, 0, 0, 0, 0, 0, 0, 0, 0, 1, 0, 0,\n",
              "       0, 0, 0, 1, 1, 0, 0, 0, 0, 1, 0, 0, 0, 0, 0, 0, 0, 0, 0, 0, 0, 0,\n",
              "       0, 0, 0, 0, 0, 0, 1, 1, 1, 1, 0, 0, 0, 0, 0, 0, 0, 0, 0, 0, 0, 0,\n",
              "       0, 0, 0, 0, 0, 0, 0, 0, 0, 0, 0, 0, 0, 0, 0, 1, 0, 0, 0, 0, 1, 0,\n",
              "       0, 1, 0, 0, 0, 0, 0, 0, 0, 0, 1, 0, 0, 0, 0, 1, 0, 1, 0, 0, 0, 0,\n",
              "       0, 0, 0, 0, 0, 0, 0, 0, 0, 0, 0, 0, 0, 0, 0, 0, 0, 0, 1, 0, 0, 0,\n",
              "       0, 0, 0, 0, 0, 1, 0, 0, 0, 0, 1, 0, 0, 0, 0, 0, 0, 0, 0, 0, 0, 0,\n",
              "       0, 0, 0, 0, 0, 0, 0, 0, 1, 0, 1, 0, 0, 0, 0, 0, 0, 0, 0, 0, 0, 0,\n",
              "       0, 0, 1, 0, 0, 0, 0, 0, 0, 0, 0, 0, 0, 0, 0, 0, 0, 0, 0, 0, 0, 0,\n",
              "       0, 0, 0, 0, 0, 0, 0, 0, 0, 1, 0, 0, 0, 0, 0, 0, 0, 1, 0, 0, 0, 0,\n",
              "       0, 0, 0, 0, 0, 0, 1, 0, 0, 0, 0, 0, 0, 1, 0, 0, 0, 0, 0, 1, 0, 0,\n",
              "       0, 0, 0, 0, 0, 0, 0, 0, 0, 0, 0, 0, 0, 0, 0, 0, 0, 0, 0, 0, 0, 0,\n",
              "       0, 0, 1, 0, 0, 0, 0, 0, 0, 0, 1, 1, 0, 0, 0, 0, 0, 0, 0, 0, 0, 0,\n",
              "       0, 0, 0, 0, 0, 0, 0, 0, 0, 0, 0, 1, 0, 0, 0, 0, 0, 0, 0, 0, 0, 0,\n",
              "       0, 0, 0, 0, 1, 0, 0, 0, 1, 0, 1, 0, 0, 0, 0, 0, 1, 0, 0, 0, 0, 0,\n",
              "       0, 0, 0, 0, 0, 0, 0, 0, 0, 0, 0, 0, 1, 0, 0, 0, 0, 0, 0, 0, 0, 0,\n",
              "       0, 0, 0, 0, 0, 0, 0, 1, 0, 1, 0, 0, 1, 0, 0, 0, 0, 0, 0, 0, 0, 0,\n",
              "       0, 0, 0, 0, 0, 0, 0, 0, 0, 0, 0, 0, 0, 0, 0, 0, 0, 0, 0, 0, 0, 1,\n",
              "       0, 0, 0, 0, 0, 0, 0, 1, 0, 0, 0, 0, 0, 1, 0, 0, 1, 0, 0, 0, 0, 0,\n",
              "       0, 0, 0, 0, 0, 0, 0, 1, 1, 0, 0, 1, 0, 0, 0, 0, 0, 0, 1, 0, 0, 0,\n",
              "       0, 0, 0, 0, 0, 1, 1, 0, 0, 0, 0, 0, 0, 0, 0, 0, 0, 0, 0, 1, 0, 0,\n",
              "       0, 0, 0, 1, 0, 0, 1, 0, 0, 0, 0, 0, 0, 0, 0, 0, 0, 0, 0, 0, 0, 0,\n",
              "       0, 0, 0, 0, 0, 0, 1, 0, 0, 1, 1, 0, 1, 0, 0, 0, 0, 0, 1, 0, 1, 0,\n",
              "       0, 0, 0, 0, 0, 0, 0, 0, 0, 1, 0, 0, 0, 0, 1, 0, 0, 0, 0, 0, 0, 0,\n",
              "       0, 0, 0, 0, 1, 0, 1, 0, 0, 0])"
            ]
          },
          "metadata": {},
          "execution_count": 175
        }
      ],
      "source": [
        "# Construct your final logistic regression using the best hyperparameters obtained above (C and penalty) ###\n",
        "# return the prediction as \"y_pred\"\n",
        "y_pred = log_hyper2.predict(combined_df_test)\n",
        "y_pred"
      ]
    },
    {
      "cell_type": "markdown",
      "metadata": {
        "id": "3hH63r9qXr0_"
      },
      "source": [
        "# Dataset 2\n",
        "## Heart Disease Dataset Description\n",
        "\n",
        "The Heart Disease Dataset contains a number of variables that can be used to predict the presence of heart disease in patients. Each attribute potentially contributes information that could be used to determine heart disease risk.\n",
        "\n",
        "### Dataset Features:\n",
        "\n",
        "- **Age**: The patient's age in years.\n",
        "- **Sex**: The patient's sex (1 = male, 0 = female).\n",
        "- **Chest Pain Type**: Type of chest pain experienced (values ranging from 1 to 4).\n",
        "- **Resting Blood Pressure**: Resting blood pressure in mm Hg on admission to the hospital.\n",
        "- **Serum Cholestrol**: Serum cholesterol in mg/dl.\n",
        "- **Fasting Blood Sugar**: Fasting blood sugar > 120 mg/dl (1 = true; 0 = false).\n",
        "- **Resting Electrocardiographic Results**: Resting electrocardiographic results (values 0, 1, 2).\n",
        "- **Maximum Heart Rate Achieved**: Maximum heart rate achieved during thallium stress test.\n",
        "- **Exercise Induced Angina**: Exercise-induced angina (1 = yes; 0 = no).\n",
        "- **ST Depression**: ST depression induced by exercise relative to rest.\n",
        "- **Slope of the Peak Exercise ST Segment**: The slope of the peak exercise ST segment.\n",
        "- **Number of Major Vessels**: Number of major vessels colored by fluoroscopy (0-3).\n",
        "- **Thal**: A blood disorder called thalassemia (3 = normal; 6 = fixed defect; 7 = reversible defect).\n",
        "\n",
        "### Target Variable:\n",
        "\n",
        "- **Heart Disease Presence**: The presence of heart disease (0 = no, 1 = yes).\n",
        "\n",
        "\n"
      ]
    },
    {
      "cell_type": "code",
      "source": [
        "## SOPHIE"
      ],
      "metadata": {
        "id": "jz2elrwB1JR5"
      },
      "execution_count": null,
      "outputs": []
    },
    {
      "cell_type": "code",
      "execution_count": null,
      "metadata": {
        "id": "t7gSdDiIzErK",
        "colab": {
          "base_uri": "https://localhost:8080/"
        },
        "outputId": "6843c11b-0fbd-47c7-abb3-379fcb09a650"
      },
      "outputs": [
        {
          "output_type": "stream",
          "name": "stdout",
          "text": [
            "Requirement already satisfied: ucimlrepo in /usr/local/lib/python3.10/dist-packages (0.0.3)\n",
            "   age  sex  cp  trestbps  chol  fbs  restecg  thalach  exang  oldpeak  slope  \\\n",
            "0   63    1   1       145   233    1        2      150      0      2.3      3   \n",
            "1   67    1   4       160   286    0        2      108      1      1.5      2   \n",
            "2   67    1   4       120   229    0        2      129      1      2.6      2   \n",
            "3   37    1   3       130   250    0        0      187      0      3.5      3   \n",
            "4   41    0   2       130   204    0        2      172      0      1.4      1   \n",
            "\n",
            "    ca  thal  \n",
            "0  0.0   6.0  \n",
            "1  3.0   3.0  \n",
            "2  2.0   7.0  \n",
            "3  0.0   3.0  \n",
            "4  0.0   3.0  \n",
            "0    0\n",
            "1    1\n",
            "2    1\n",
            "3    0\n",
            "4    0\n",
            "Name: HeartDisease, dtype: int64\n"
          ]
        }
      ],
      "source": [
        "# Load the data set\n",
        "!pip install ucimlrepo\n",
        "\n",
        "from ucimlrepo import fetch_ucirepo\n",
        "import pandas as pd\n",
        "import numpy as np\n",
        "\n",
        "# Fetch dataset\n",
        "heart_disease = fetch_ucirepo(id=45)\n",
        "\n",
        "# Data (as pandas dataframes)\n",
        "X = heart_disease.data.features\n",
        "y = heart_disease.data.targets\n",
        "\n",
        "# Convert the target variable to binary\n",
        "# 0 indicates no disease, 1 indicates any level of disease\n",
        "y_binary = np.where(y == 0, 0, 1)\n",
        "y_binary_series = pd.Series(y_binary.reshape(-1), name='HeartDisease')\n",
        "# Now, X contains the features and y_binary contains the binary target\n",
        "print(X.head())\n",
        "print(y_binary_series.head())"
      ]
    },
    {
      "cell_type": "code",
      "source": [
        "# Handling missing values (ex- by removing rows with missing data)\n",
        "if X.isnull().values.any():\n",
        "    X.dropna(inplace=True)\n",
        "\n",
        "    # Ensure that the rows in 'y' correspond to the rows in the cleaned 'X'\n",
        "\n",
        "# Since 'y' (targets) do not have missing values, they can be used as is\n",
        "y_binary_series = y_binary_series.loc[X.index]\n",
        "y = y.loc[X.index]\n",
        "\n",
        "\n",
        "print(X.head())\n",
        "# However, ensure that the rows in 'y' correspond to the rows in the cleaned 'X'\n",
        "print(len(y_binary_series) == len(X))"
      ],
      "metadata": {
        "colab": {
          "base_uri": "https://localhost:8080/"
        },
        "id": "ouXzSv0SAp5f",
        "outputId": "41b70845-433a-4f67-89d0-93fa392fc771"
      },
      "execution_count": null,
      "outputs": [
        {
          "output_type": "stream",
          "name": "stdout",
          "text": [
            "   age  sex  cp  trestbps  chol  fbs  restecg  thalach  exang  oldpeak  slope  \\\n",
            "0   63    1   1       145   233    1        2      150      0      2.3      3   \n",
            "1   67    1   4       160   286    0        2      108      1      1.5      2   \n",
            "2   67    1   4       120   229    0        2      129      1      2.6      2   \n",
            "3   37    1   3       130   250    0        0      187      0      3.5      3   \n",
            "4   41    0   2       130   204    0        2      172      0      1.4      1   \n",
            "\n",
            "    ca  thal  \n",
            "0  0.0   6.0  \n",
            "1  3.0   3.0  \n",
            "2  2.0   7.0  \n",
            "3  0.0   3.0  \n",
            "4  0.0   3.0  \n",
            "True\n"
          ]
        },
        {
          "output_type": "stream",
          "name": "stderr",
          "text": [
            "<ipython-input-104-6d46f55fe276>:3: SettingWithCopyWarning: \n",
            "A value is trying to be set on a copy of a slice from a DataFrame\n",
            "\n",
            "See the caveats in the documentation: https://pandas.pydata.org/pandas-docs/stable/user_guide/indexing.html#returning-a-view-versus-a-copy\n",
            "  X.dropna(inplace=True)\n"
          ]
        }
      ]
    },
    {
      "cell_type": "markdown",
      "metadata": {
        "id": "8MVch-0-owrH"
      },
      "source": [
        "Data preprocessing (Standardize the features, one-hot\n",
        "\n",
        "1.   List item\n",
        "2.   List item\n",
        "\n",
        "encoding, lable encoding)"
      ]
    },
    {
      "cell_type": "code",
      "execution_count": null,
      "metadata": {
        "id": "wShbdeiWomoY"
      },
      "outputs": [],
      "source": [
        "import pandas as pd\n",
        "from sklearn.preprocessing import StandardScaler, OneHotEncoder\n",
        "from sklearn.compose import ColumnTransformer\n"
      ]
    },
    {
      "cell_type": "code",
      "source": [
        "#Standardize the features\n",
        "\n",
        "hd_df = pd.concat([X, y_binary_series], axis=1)\n",
        "X = hd_df.drop('HeartDisease', axis=1)\n",
        "y = hd_df['HeartDisease']\n",
        "\n",
        "# Normalizing Training Dataset\n",
        "categorical_data_hd = ['sex', 'cp', 'fbs', 'restecg', 'exang', 'slope', 'thal']\n",
        "numerical_data_hd = X.columns.drop(categorical_data_hd)\n",
        "\n",
        "# Extracting numerical data for scaling\n",
        "numerical_values_hd = X[numerical_data_hd]\n",
        "\n",
        "#Performing scaling\n",
        "scaler = StandardScaler()\n",
        "scaled_data_hd = scaler.fit_transform(numerical_values_hd)\n",
        "numerical_scaled_hd_df = pd.DataFrame(scaled_data_hd, columns=numerical_data_hd)\n",
        "\n",
        "numerical_scaled_hd_df.head()"
      ],
      "metadata": {
        "colab": {
          "base_uri": "https://localhost:8080/",
          "height": 206
        },
        "id": "IVl10dC1-z6l",
        "outputId": "78a6e995-2229-4c18-e047-90aec66c9e8b"
      },
      "execution_count": null,
      "outputs": [
        {
          "output_type": "execute_result",
          "data": {
            "text/plain": [
              "        age  trestbps      chol   thalach   oldpeak        ca\n",
              "0  0.936181  0.750380 -0.276443  0.017494  1.068965 -0.721976\n",
              "1  1.378929  1.596266  0.744555 -1.816334  0.381773  2.478425\n",
              "2  1.378929 -0.659431 -0.353500 -0.899420  1.326662  1.411625\n",
              "3 -1.941680 -0.095506  0.051047  1.633010  2.099753 -0.721976\n",
              "4 -1.498933 -0.095506 -0.835103  0.978071  0.295874 -0.721976"
            ],
            "text/html": [
              "\n",
              "  <div id=\"df-b0c9c9d7-5b24-4274-be94-9158cd83a28b\" class=\"colab-df-container\">\n",
              "    <div>\n",
              "<style scoped>\n",
              "    .dataframe tbody tr th:only-of-type {\n",
              "        vertical-align: middle;\n",
              "    }\n",
              "\n",
              "    .dataframe tbody tr th {\n",
              "        vertical-align: top;\n",
              "    }\n",
              "\n",
              "    .dataframe thead th {\n",
              "        text-align: right;\n",
              "    }\n",
              "</style>\n",
              "<table border=\"1\" class=\"dataframe\">\n",
              "  <thead>\n",
              "    <tr style=\"text-align: right;\">\n",
              "      <th></th>\n",
              "      <th>age</th>\n",
              "      <th>trestbps</th>\n",
              "      <th>chol</th>\n",
              "      <th>thalach</th>\n",
              "      <th>oldpeak</th>\n",
              "      <th>ca</th>\n",
              "    </tr>\n",
              "  </thead>\n",
              "  <tbody>\n",
              "    <tr>\n",
              "      <th>0</th>\n",
              "      <td>0.936181</td>\n",
              "      <td>0.750380</td>\n",
              "      <td>-0.276443</td>\n",
              "      <td>0.017494</td>\n",
              "      <td>1.068965</td>\n",
              "      <td>-0.721976</td>\n",
              "    </tr>\n",
              "    <tr>\n",
              "      <th>1</th>\n",
              "      <td>1.378929</td>\n",
              "      <td>1.596266</td>\n",
              "      <td>0.744555</td>\n",
              "      <td>-1.816334</td>\n",
              "      <td>0.381773</td>\n",
              "      <td>2.478425</td>\n",
              "    </tr>\n",
              "    <tr>\n",
              "      <th>2</th>\n",
              "      <td>1.378929</td>\n",
              "      <td>-0.659431</td>\n",
              "      <td>-0.353500</td>\n",
              "      <td>-0.899420</td>\n",
              "      <td>1.326662</td>\n",
              "      <td>1.411625</td>\n",
              "    </tr>\n",
              "    <tr>\n",
              "      <th>3</th>\n",
              "      <td>-1.941680</td>\n",
              "      <td>-0.095506</td>\n",
              "      <td>0.051047</td>\n",
              "      <td>1.633010</td>\n",
              "      <td>2.099753</td>\n",
              "      <td>-0.721976</td>\n",
              "    </tr>\n",
              "    <tr>\n",
              "      <th>4</th>\n",
              "      <td>-1.498933</td>\n",
              "      <td>-0.095506</td>\n",
              "      <td>-0.835103</td>\n",
              "      <td>0.978071</td>\n",
              "      <td>0.295874</td>\n",
              "      <td>-0.721976</td>\n",
              "    </tr>\n",
              "  </tbody>\n",
              "</table>\n",
              "</div>\n",
              "    <div class=\"colab-df-buttons\">\n",
              "\n",
              "  <div class=\"colab-df-container\">\n",
              "    <button class=\"colab-df-convert\" onclick=\"convertToInteractive('df-b0c9c9d7-5b24-4274-be94-9158cd83a28b')\"\n",
              "            title=\"Convert this dataframe to an interactive table.\"\n",
              "            style=\"display:none;\">\n",
              "\n",
              "  <svg xmlns=\"http://www.w3.org/2000/svg\" height=\"24px\" viewBox=\"0 -960 960 960\">\n",
              "    <path d=\"M120-120v-720h720v720H120Zm60-500h600v-160H180v160Zm220 220h160v-160H400v160Zm0 220h160v-160H400v160ZM180-400h160v-160H180v160Zm440 0h160v-160H620v160ZM180-180h160v-160H180v160Zm440 0h160v-160H620v160Z\"/>\n",
              "  </svg>\n",
              "    </button>\n",
              "\n",
              "  <style>\n",
              "    .colab-df-container {\n",
              "      display:flex;\n",
              "      gap: 12px;\n",
              "    }\n",
              "\n",
              "    .colab-df-convert {\n",
              "      background-color: #E8F0FE;\n",
              "      border: none;\n",
              "      border-radius: 50%;\n",
              "      cursor: pointer;\n",
              "      display: none;\n",
              "      fill: #1967D2;\n",
              "      height: 32px;\n",
              "      padding: 0 0 0 0;\n",
              "      width: 32px;\n",
              "    }\n",
              "\n",
              "    .colab-df-convert:hover {\n",
              "      background-color: #E2EBFA;\n",
              "      box-shadow: 0px 1px 2px rgba(60, 64, 67, 0.3), 0px 1px 3px 1px rgba(60, 64, 67, 0.15);\n",
              "      fill: #174EA6;\n",
              "    }\n",
              "\n",
              "    .colab-df-buttons div {\n",
              "      margin-bottom: 4px;\n",
              "    }\n",
              "\n",
              "    [theme=dark] .colab-df-convert {\n",
              "      background-color: #3B4455;\n",
              "      fill: #D2E3FC;\n",
              "    }\n",
              "\n",
              "    [theme=dark] .colab-df-convert:hover {\n",
              "      background-color: #434B5C;\n",
              "      box-shadow: 0px 1px 3px 1px rgba(0, 0, 0, 0.15);\n",
              "      filter: drop-shadow(0px 1px 2px rgba(0, 0, 0, 0.3));\n",
              "      fill: #FFFFFF;\n",
              "    }\n",
              "  </style>\n",
              "\n",
              "    <script>\n",
              "      const buttonEl =\n",
              "        document.querySelector('#df-b0c9c9d7-5b24-4274-be94-9158cd83a28b button.colab-df-convert');\n",
              "      buttonEl.style.display =\n",
              "        google.colab.kernel.accessAllowed ? 'block' : 'none';\n",
              "\n",
              "      async function convertToInteractive(key) {\n",
              "        const element = document.querySelector('#df-b0c9c9d7-5b24-4274-be94-9158cd83a28b');\n",
              "        const dataTable =\n",
              "          await google.colab.kernel.invokeFunction('convertToInteractive',\n",
              "                                                    [key], {});\n",
              "        if (!dataTable) return;\n",
              "\n",
              "        const docLinkHtml = 'Like what you see? Visit the ' +\n",
              "          '<a target=\"_blank\" href=https://colab.research.google.com/notebooks/data_table.ipynb>data table notebook</a>'\n",
              "          + ' to learn more about interactive tables.';\n",
              "        element.innerHTML = '';\n",
              "        dataTable['output_type'] = 'display_data';\n",
              "        await google.colab.output.renderOutput(dataTable, element);\n",
              "        const docLink = document.createElement('div');\n",
              "        docLink.innerHTML = docLinkHtml;\n",
              "        element.appendChild(docLink);\n",
              "      }\n",
              "    </script>\n",
              "  </div>\n",
              "\n",
              "\n",
              "<div id=\"df-8429beeb-96e9-42c8-b22a-f13230048be1\">\n",
              "  <button class=\"colab-df-quickchart\" onclick=\"quickchart('df-8429beeb-96e9-42c8-b22a-f13230048be1')\"\n",
              "            title=\"Suggest charts\"\n",
              "            style=\"display:none;\">\n",
              "\n",
              "<svg xmlns=\"http://www.w3.org/2000/svg\" height=\"24px\"viewBox=\"0 0 24 24\"\n",
              "     width=\"24px\">\n",
              "    <g>\n",
              "        <path d=\"M19 3H5c-1.1 0-2 .9-2 2v14c0 1.1.9 2 2 2h14c1.1 0 2-.9 2-2V5c0-1.1-.9-2-2-2zM9 17H7v-7h2v7zm4 0h-2V7h2v10zm4 0h-2v-4h2v4z\"/>\n",
              "    </g>\n",
              "</svg>\n",
              "  </button>\n",
              "\n",
              "<style>\n",
              "  .colab-df-quickchart {\n",
              "      --bg-color: #E8F0FE;\n",
              "      --fill-color: #1967D2;\n",
              "      --hover-bg-color: #E2EBFA;\n",
              "      --hover-fill-color: #174EA6;\n",
              "      --disabled-fill-color: #AAA;\n",
              "      --disabled-bg-color: #DDD;\n",
              "  }\n",
              "\n",
              "  [theme=dark] .colab-df-quickchart {\n",
              "      --bg-color: #3B4455;\n",
              "      --fill-color: #D2E3FC;\n",
              "      --hover-bg-color: #434B5C;\n",
              "      --hover-fill-color: #FFFFFF;\n",
              "      --disabled-bg-color: #3B4455;\n",
              "      --disabled-fill-color: #666;\n",
              "  }\n",
              "\n",
              "  .colab-df-quickchart {\n",
              "    background-color: var(--bg-color);\n",
              "    border: none;\n",
              "    border-radius: 50%;\n",
              "    cursor: pointer;\n",
              "    display: none;\n",
              "    fill: var(--fill-color);\n",
              "    height: 32px;\n",
              "    padding: 0;\n",
              "    width: 32px;\n",
              "  }\n",
              "\n",
              "  .colab-df-quickchart:hover {\n",
              "    background-color: var(--hover-bg-color);\n",
              "    box-shadow: 0 1px 2px rgba(60, 64, 67, 0.3), 0 1px 3px 1px rgba(60, 64, 67, 0.15);\n",
              "    fill: var(--button-hover-fill-color);\n",
              "  }\n",
              "\n",
              "  .colab-df-quickchart-complete:disabled,\n",
              "  .colab-df-quickchart-complete:disabled:hover {\n",
              "    background-color: var(--disabled-bg-color);\n",
              "    fill: var(--disabled-fill-color);\n",
              "    box-shadow: none;\n",
              "  }\n",
              "\n",
              "  .colab-df-spinner {\n",
              "    border: 2px solid var(--fill-color);\n",
              "    border-color: transparent;\n",
              "    border-bottom-color: var(--fill-color);\n",
              "    animation:\n",
              "      spin 1s steps(1) infinite;\n",
              "  }\n",
              "\n",
              "  @keyframes spin {\n",
              "    0% {\n",
              "      border-color: transparent;\n",
              "      border-bottom-color: var(--fill-color);\n",
              "      border-left-color: var(--fill-color);\n",
              "    }\n",
              "    20% {\n",
              "      border-color: transparent;\n",
              "      border-left-color: var(--fill-color);\n",
              "      border-top-color: var(--fill-color);\n",
              "    }\n",
              "    30% {\n",
              "      border-color: transparent;\n",
              "      border-left-color: var(--fill-color);\n",
              "      border-top-color: var(--fill-color);\n",
              "      border-right-color: var(--fill-color);\n",
              "    }\n",
              "    40% {\n",
              "      border-color: transparent;\n",
              "      border-right-color: var(--fill-color);\n",
              "      border-top-color: var(--fill-color);\n",
              "    }\n",
              "    60% {\n",
              "      border-color: transparent;\n",
              "      border-right-color: var(--fill-color);\n",
              "    }\n",
              "    80% {\n",
              "      border-color: transparent;\n",
              "      border-right-color: var(--fill-color);\n",
              "      border-bottom-color: var(--fill-color);\n",
              "    }\n",
              "    90% {\n",
              "      border-color: transparent;\n",
              "      border-bottom-color: var(--fill-color);\n",
              "    }\n",
              "  }\n",
              "</style>\n",
              "\n",
              "  <script>\n",
              "    async function quickchart(key) {\n",
              "      const quickchartButtonEl =\n",
              "        document.querySelector('#' + key + ' button');\n",
              "      quickchartButtonEl.disabled = true;  // To prevent multiple clicks.\n",
              "      quickchartButtonEl.classList.add('colab-df-spinner');\n",
              "      try {\n",
              "        const charts = await google.colab.kernel.invokeFunction(\n",
              "            'suggestCharts', [key], {});\n",
              "      } catch (error) {\n",
              "        console.error('Error during call to suggestCharts:', error);\n",
              "      }\n",
              "      quickchartButtonEl.classList.remove('colab-df-spinner');\n",
              "      quickchartButtonEl.classList.add('colab-df-quickchart-complete');\n",
              "    }\n",
              "    (() => {\n",
              "      let quickchartButtonEl =\n",
              "        document.querySelector('#df-8429beeb-96e9-42c8-b22a-f13230048be1 button');\n",
              "      quickchartButtonEl.style.display =\n",
              "        google.colab.kernel.accessAllowed ? 'block' : 'none';\n",
              "    })();\n",
              "  </script>\n",
              "</div>\n",
              "    </div>\n",
              "  </div>\n"
            ]
          },
          "metadata": {},
          "execution_count": 106
        }
      ]
    },
    {
      "cell_type": "code",
      "source": [
        "# Perform one hot encoding\n",
        "encoder = OneHotEncoder(sparse=False)\n",
        "categorical_encoded_hd = encoder.fit_transform(X[categorical_data_hd])\n",
        "\n",
        "categorical_encoded_hd_df = pd.DataFrame(categorical_encoded_hd, columns=encoder.get_feature_names_out(categorical_data_hd))\n",
        "\n",
        "\n",
        "# Print the shape of your encoded X\n",
        "print(categorical_encoded_hd_df.shape)"
      ],
      "metadata": {
        "id": "wPcCkKxi-3i9",
        "outputId": "0322aa78-c5da-421b-df25-fdb0ad79705a",
        "colab": {
          "base_uri": "https://localhost:8080/"
        }
      },
      "execution_count": null,
      "outputs": [
        {
          "output_type": "stream",
          "name": "stdout",
          "text": [
            "(297, 19)\n"
          ]
        },
        {
          "output_type": "stream",
          "name": "stderr",
          "text": [
            "/usr/local/lib/python3.10/dist-packages/sklearn/preprocessing/_encoders.py:868: FutureWarning: `sparse` was renamed to `sparse_output` in version 1.2 and will be removed in 1.4. `sparse_output` is ignored unless you leave `sparse` to its default value.\n",
            "  warnings.warn(\n"
          ]
        }
      ]
    },
    {
      "cell_type": "code",
      "source": [
        "# Combining encoded categorical data and scaled numerical data\n",
        "\n",
        "numerical_scaled_hd_df.reset_index(drop=True, inplace=True)\n",
        "categorical_encoded_hd_df.reset_index(drop=True, inplace=True)\n",
        "\n",
        "combined_df_hd = pd.concat([numerical_scaled_hd_df, categorical_encoded_hd_df], axis=1)\n",
        "\n",
        "combined_df_hd.head()"
      ],
      "metadata": {
        "id": "qc_ceR3I-7PM",
        "colab": {
          "base_uri": "https://localhost:8080/",
          "height": 256
        },
        "outputId": "e110731b-4722-469c-a8b6-c1bdfa40a484"
      },
      "execution_count": null,
      "outputs": [
        {
          "output_type": "execute_result",
          "data": {
            "text/plain": [
              "        age  trestbps      chol   thalach   oldpeak        ca  sex_0  sex_1  \\\n",
              "0  0.936181  0.750380 -0.276443  0.017494  1.068965 -0.721976    0.0    1.0   \n",
              "1  1.378929  1.596266  0.744555 -1.816334  0.381773  2.478425    0.0    1.0   \n",
              "2  1.378929 -0.659431 -0.353500 -0.899420  1.326662  1.411625    0.0    1.0   \n",
              "3 -1.941680 -0.095506  0.051047  1.633010  2.099753 -0.721976    0.0    1.0   \n",
              "4 -1.498933 -0.095506 -0.835103  0.978071  0.295874 -0.721976    1.0    0.0   \n",
              "\n",
              "   cp_1  cp_2  ...  restecg_1  restecg_2  exang_0  exang_1  slope_1  slope_2  \\\n",
              "0   1.0   0.0  ...        0.0        1.0      1.0      0.0      0.0      0.0   \n",
              "1   0.0   0.0  ...        0.0        1.0      0.0      1.0      0.0      1.0   \n",
              "2   0.0   0.0  ...        0.0        1.0      0.0      1.0      0.0      1.0   \n",
              "3   0.0   0.0  ...        0.0        0.0      1.0      0.0      0.0      0.0   \n",
              "4   0.0   1.0  ...        0.0        1.0      1.0      0.0      1.0      0.0   \n",
              "\n",
              "   slope_3  thal_3.0  thal_6.0  thal_7.0  \n",
              "0      1.0       0.0       1.0       0.0  \n",
              "1      0.0       1.0       0.0       0.0  \n",
              "2      0.0       0.0       0.0       1.0  \n",
              "3      1.0       1.0       0.0       0.0  \n",
              "4      0.0       1.0       0.0       0.0  \n",
              "\n",
              "[5 rows x 25 columns]"
            ],
            "text/html": [
              "\n",
              "  <div id=\"df-236b6ead-cd3f-4983-8bdb-15032170bdb0\" class=\"colab-df-container\">\n",
              "    <div>\n",
              "<style scoped>\n",
              "    .dataframe tbody tr th:only-of-type {\n",
              "        vertical-align: middle;\n",
              "    }\n",
              "\n",
              "    .dataframe tbody tr th {\n",
              "        vertical-align: top;\n",
              "    }\n",
              "\n",
              "    .dataframe thead th {\n",
              "        text-align: right;\n",
              "    }\n",
              "</style>\n",
              "<table border=\"1\" class=\"dataframe\">\n",
              "  <thead>\n",
              "    <tr style=\"text-align: right;\">\n",
              "      <th></th>\n",
              "      <th>age</th>\n",
              "      <th>trestbps</th>\n",
              "      <th>chol</th>\n",
              "      <th>thalach</th>\n",
              "      <th>oldpeak</th>\n",
              "      <th>ca</th>\n",
              "      <th>sex_0</th>\n",
              "      <th>sex_1</th>\n",
              "      <th>cp_1</th>\n",
              "      <th>cp_2</th>\n",
              "      <th>...</th>\n",
              "      <th>restecg_1</th>\n",
              "      <th>restecg_2</th>\n",
              "      <th>exang_0</th>\n",
              "      <th>exang_1</th>\n",
              "      <th>slope_1</th>\n",
              "      <th>slope_2</th>\n",
              "      <th>slope_3</th>\n",
              "      <th>thal_3.0</th>\n",
              "      <th>thal_6.0</th>\n",
              "      <th>thal_7.0</th>\n",
              "    </tr>\n",
              "  </thead>\n",
              "  <tbody>\n",
              "    <tr>\n",
              "      <th>0</th>\n",
              "      <td>0.936181</td>\n",
              "      <td>0.750380</td>\n",
              "      <td>-0.276443</td>\n",
              "      <td>0.017494</td>\n",
              "      <td>1.068965</td>\n",
              "      <td>-0.721976</td>\n",
              "      <td>0.0</td>\n",
              "      <td>1.0</td>\n",
              "      <td>1.0</td>\n",
              "      <td>0.0</td>\n",
              "      <td>...</td>\n",
              "      <td>0.0</td>\n",
              "      <td>1.0</td>\n",
              "      <td>1.0</td>\n",
              "      <td>0.0</td>\n",
              "      <td>0.0</td>\n",
              "      <td>0.0</td>\n",
              "      <td>1.0</td>\n",
              "      <td>0.0</td>\n",
              "      <td>1.0</td>\n",
              "      <td>0.0</td>\n",
              "    </tr>\n",
              "    <tr>\n",
              "      <th>1</th>\n",
              "      <td>1.378929</td>\n",
              "      <td>1.596266</td>\n",
              "      <td>0.744555</td>\n",
              "      <td>-1.816334</td>\n",
              "      <td>0.381773</td>\n",
              "      <td>2.478425</td>\n",
              "      <td>0.0</td>\n",
              "      <td>1.0</td>\n",
              "      <td>0.0</td>\n",
              "      <td>0.0</td>\n",
              "      <td>...</td>\n",
              "      <td>0.0</td>\n",
              "      <td>1.0</td>\n",
              "      <td>0.0</td>\n",
              "      <td>1.0</td>\n",
              "      <td>0.0</td>\n",
              "      <td>1.0</td>\n",
              "      <td>0.0</td>\n",
              "      <td>1.0</td>\n",
              "      <td>0.0</td>\n",
              "      <td>0.0</td>\n",
              "    </tr>\n",
              "    <tr>\n",
              "      <th>2</th>\n",
              "      <td>1.378929</td>\n",
              "      <td>-0.659431</td>\n",
              "      <td>-0.353500</td>\n",
              "      <td>-0.899420</td>\n",
              "      <td>1.326662</td>\n",
              "      <td>1.411625</td>\n",
              "      <td>0.0</td>\n",
              "      <td>1.0</td>\n",
              "      <td>0.0</td>\n",
              "      <td>0.0</td>\n",
              "      <td>...</td>\n",
              "      <td>0.0</td>\n",
              "      <td>1.0</td>\n",
              "      <td>0.0</td>\n",
              "      <td>1.0</td>\n",
              "      <td>0.0</td>\n",
              "      <td>1.0</td>\n",
              "      <td>0.0</td>\n",
              "      <td>0.0</td>\n",
              "      <td>0.0</td>\n",
              "      <td>1.0</td>\n",
              "    </tr>\n",
              "    <tr>\n",
              "      <th>3</th>\n",
              "      <td>-1.941680</td>\n",
              "      <td>-0.095506</td>\n",
              "      <td>0.051047</td>\n",
              "      <td>1.633010</td>\n",
              "      <td>2.099753</td>\n",
              "      <td>-0.721976</td>\n",
              "      <td>0.0</td>\n",
              "      <td>1.0</td>\n",
              "      <td>0.0</td>\n",
              "      <td>0.0</td>\n",
              "      <td>...</td>\n",
              "      <td>0.0</td>\n",
              "      <td>0.0</td>\n",
              "      <td>1.0</td>\n",
              "      <td>0.0</td>\n",
              "      <td>0.0</td>\n",
              "      <td>0.0</td>\n",
              "      <td>1.0</td>\n",
              "      <td>1.0</td>\n",
              "      <td>0.0</td>\n",
              "      <td>0.0</td>\n",
              "    </tr>\n",
              "    <tr>\n",
              "      <th>4</th>\n",
              "      <td>-1.498933</td>\n",
              "      <td>-0.095506</td>\n",
              "      <td>-0.835103</td>\n",
              "      <td>0.978071</td>\n",
              "      <td>0.295874</td>\n",
              "      <td>-0.721976</td>\n",
              "      <td>1.0</td>\n",
              "      <td>0.0</td>\n",
              "      <td>0.0</td>\n",
              "      <td>1.0</td>\n",
              "      <td>...</td>\n",
              "      <td>0.0</td>\n",
              "      <td>1.0</td>\n",
              "      <td>1.0</td>\n",
              "      <td>0.0</td>\n",
              "      <td>1.0</td>\n",
              "      <td>0.0</td>\n",
              "      <td>0.0</td>\n",
              "      <td>1.0</td>\n",
              "      <td>0.0</td>\n",
              "      <td>0.0</td>\n",
              "    </tr>\n",
              "  </tbody>\n",
              "</table>\n",
              "<p>5 rows × 25 columns</p>\n",
              "</div>\n",
              "    <div class=\"colab-df-buttons\">\n",
              "\n",
              "  <div class=\"colab-df-container\">\n",
              "    <button class=\"colab-df-convert\" onclick=\"convertToInteractive('df-236b6ead-cd3f-4983-8bdb-15032170bdb0')\"\n",
              "            title=\"Convert this dataframe to an interactive table.\"\n",
              "            style=\"display:none;\">\n",
              "\n",
              "  <svg xmlns=\"http://www.w3.org/2000/svg\" height=\"24px\" viewBox=\"0 -960 960 960\">\n",
              "    <path d=\"M120-120v-720h720v720H120Zm60-500h600v-160H180v160Zm220 220h160v-160H400v160Zm0 220h160v-160H400v160ZM180-400h160v-160H180v160Zm440 0h160v-160H620v160ZM180-180h160v-160H180v160Zm440 0h160v-160H620v160Z\"/>\n",
              "  </svg>\n",
              "    </button>\n",
              "\n",
              "  <style>\n",
              "    .colab-df-container {\n",
              "      display:flex;\n",
              "      gap: 12px;\n",
              "    }\n",
              "\n",
              "    .colab-df-convert {\n",
              "      background-color: #E8F0FE;\n",
              "      border: none;\n",
              "      border-radius: 50%;\n",
              "      cursor: pointer;\n",
              "      display: none;\n",
              "      fill: #1967D2;\n",
              "      height: 32px;\n",
              "      padding: 0 0 0 0;\n",
              "      width: 32px;\n",
              "    }\n",
              "\n",
              "    .colab-df-convert:hover {\n",
              "      background-color: #E2EBFA;\n",
              "      box-shadow: 0px 1px 2px rgba(60, 64, 67, 0.3), 0px 1px 3px 1px rgba(60, 64, 67, 0.15);\n",
              "      fill: #174EA6;\n",
              "    }\n",
              "\n",
              "    .colab-df-buttons div {\n",
              "      margin-bottom: 4px;\n",
              "    }\n",
              "\n",
              "    [theme=dark] .colab-df-convert {\n",
              "      background-color: #3B4455;\n",
              "      fill: #D2E3FC;\n",
              "    }\n",
              "\n",
              "    [theme=dark] .colab-df-convert:hover {\n",
              "      background-color: #434B5C;\n",
              "      box-shadow: 0px 1px 3px 1px rgba(0, 0, 0, 0.15);\n",
              "      filter: drop-shadow(0px 1px 2px rgba(0, 0, 0, 0.3));\n",
              "      fill: #FFFFFF;\n",
              "    }\n",
              "  </style>\n",
              "\n",
              "    <script>\n",
              "      const buttonEl =\n",
              "        document.querySelector('#df-236b6ead-cd3f-4983-8bdb-15032170bdb0 button.colab-df-convert');\n",
              "      buttonEl.style.display =\n",
              "        google.colab.kernel.accessAllowed ? 'block' : 'none';\n",
              "\n",
              "      async function convertToInteractive(key) {\n",
              "        const element = document.querySelector('#df-236b6ead-cd3f-4983-8bdb-15032170bdb0');\n",
              "        const dataTable =\n",
              "          await google.colab.kernel.invokeFunction('convertToInteractive',\n",
              "                                                    [key], {});\n",
              "        if (!dataTable) return;\n",
              "\n",
              "        const docLinkHtml = 'Like what you see? Visit the ' +\n",
              "          '<a target=\"_blank\" href=https://colab.research.google.com/notebooks/data_table.ipynb>data table notebook</a>'\n",
              "          + ' to learn more about interactive tables.';\n",
              "        element.innerHTML = '';\n",
              "        dataTable['output_type'] = 'display_data';\n",
              "        await google.colab.output.renderOutput(dataTable, element);\n",
              "        const docLink = document.createElement('div');\n",
              "        docLink.innerHTML = docLinkHtml;\n",
              "        element.appendChild(docLink);\n",
              "      }\n",
              "    </script>\n",
              "  </div>\n",
              "\n",
              "\n",
              "<div id=\"df-eceedf98-01b8-4ab6-8502-3fc417ef4766\">\n",
              "  <button class=\"colab-df-quickchart\" onclick=\"quickchart('df-eceedf98-01b8-4ab6-8502-3fc417ef4766')\"\n",
              "            title=\"Suggest charts\"\n",
              "            style=\"display:none;\">\n",
              "\n",
              "<svg xmlns=\"http://www.w3.org/2000/svg\" height=\"24px\"viewBox=\"0 0 24 24\"\n",
              "     width=\"24px\">\n",
              "    <g>\n",
              "        <path d=\"M19 3H5c-1.1 0-2 .9-2 2v14c0 1.1.9 2 2 2h14c1.1 0 2-.9 2-2V5c0-1.1-.9-2-2-2zM9 17H7v-7h2v7zm4 0h-2V7h2v10zm4 0h-2v-4h2v4z\"/>\n",
              "    </g>\n",
              "</svg>\n",
              "  </button>\n",
              "\n",
              "<style>\n",
              "  .colab-df-quickchart {\n",
              "      --bg-color: #E8F0FE;\n",
              "      --fill-color: #1967D2;\n",
              "      --hover-bg-color: #E2EBFA;\n",
              "      --hover-fill-color: #174EA6;\n",
              "      --disabled-fill-color: #AAA;\n",
              "      --disabled-bg-color: #DDD;\n",
              "  }\n",
              "\n",
              "  [theme=dark] .colab-df-quickchart {\n",
              "      --bg-color: #3B4455;\n",
              "      --fill-color: #D2E3FC;\n",
              "      --hover-bg-color: #434B5C;\n",
              "      --hover-fill-color: #FFFFFF;\n",
              "      --disabled-bg-color: #3B4455;\n",
              "      --disabled-fill-color: #666;\n",
              "  }\n",
              "\n",
              "  .colab-df-quickchart {\n",
              "    background-color: var(--bg-color);\n",
              "    border: none;\n",
              "    border-radius: 50%;\n",
              "    cursor: pointer;\n",
              "    display: none;\n",
              "    fill: var(--fill-color);\n",
              "    height: 32px;\n",
              "    padding: 0;\n",
              "    width: 32px;\n",
              "  }\n",
              "\n",
              "  .colab-df-quickchart:hover {\n",
              "    background-color: var(--hover-bg-color);\n",
              "    box-shadow: 0 1px 2px rgba(60, 64, 67, 0.3), 0 1px 3px 1px rgba(60, 64, 67, 0.15);\n",
              "    fill: var(--button-hover-fill-color);\n",
              "  }\n",
              "\n",
              "  .colab-df-quickchart-complete:disabled,\n",
              "  .colab-df-quickchart-complete:disabled:hover {\n",
              "    background-color: var(--disabled-bg-color);\n",
              "    fill: var(--disabled-fill-color);\n",
              "    box-shadow: none;\n",
              "  }\n",
              "\n",
              "  .colab-df-spinner {\n",
              "    border: 2px solid var(--fill-color);\n",
              "    border-color: transparent;\n",
              "    border-bottom-color: var(--fill-color);\n",
              "    animation:\n",
              "      spin 1s steps(1) infinite;\n",
              "  }\n",
              "\n",
              "  @keyframes spin {\n",
              "    0% {\n",
              "      border-color: transparent;\n",
              "      border-bottom-color: var(--fill-color);\n",
              "      border-left-color: var(--fill-color);\n",
              "    }\n",
              "    20% {\n",
              "      border-color: transparent;\n",
              "      border-left-color: var(--fill-color);\n",
              "      border-top-color: var(--fill-color);\n",
              "    }\n",
              "    30% {\n",
              "      border-color: transparent;\n",
              "      border-left-color: var(--fill-color);\n",
              "      border-top-color: var(--fill-color);\n",
              "      border-right-color: var(--fill-color);\n",
              "    }\n",
              "    40% {\n",
              "      border-color: transparent;\n",
              "      border-right-color: var(--fill-color);\n",
              "      border-top-color: var(--fill-color);\n",
              "    }\n",
              "    60% {\n",
              "      border-color: transparent;\n",
              "      border-right-color: var(--fill-color);\n",
              "    }\n",
              "    80% {\n",
              "      border-color: transparent;\n",
              "      border-right-color: var(--fill-color);\n",
              "      border-bottom-color: var(--fill-color);\n",
              "    }\n",
              "    90% {\n",
              "      border-color: transparent;\n",
              "      border-bottom-color: var(--fill-color);\n",
              "    }\n",
              "  }\n",
              "</style>\n",
              "\n",
              "  <script>\n",
              "    async function quickchart(key) {\n",
              "      const quickchartButtonEl =\n",
              "        document.querySelector('#' + key + ' button');\n",
              "      quickchartButtonEl.disabled = true;  // To prevent multiple clicks.\n",
              "      quickchartButtonEl.classList.add('colab-df-spinner');\n",
              "      try {\n",
              "        const charts = await google.colab.kernel.invokeFunction(\n",
              "            'suggestCharts', [key], {});\n",
              "      } catch (error) {\n",
              "        console.error('Error during call to suggestCharts:', error);\n",
              "      }\n",
              "      quickchartButtonEl.classList.remove('colab-df-spinner');\n",
              "      quickchartButtonEl.classList.add('colab-df-quickchart-complete');\n",
              "    }\n",
              "    (() => {\n",
              "      let quickchartButtonEl =\n",
              "        document.querySelector('#df-eceedf98-01b8-4ab6-8502-3fc417ef4766 button');\n",
              "      quickchartButtonEl.style.display =\n",
              "        google.colab.kernel.accessAllowed ? 'block' : 'none';\n",
              "    })();\n",
              "  </script>\n",
              "</div>\n",
              "    </div>\n",
              "  </div>\n"
            ]
          },
          "metadata": {},
          "execution_count": 108
        }
      ]
    },
    {
      "cell_type": "markdown",
      "metadata": {
        "id": "6RSaaaHgr8Cd"
      },
      "source": [
        "Splitting training data into training and validation set (the code has been provided)"
      ]
    },
    {
      "cell_type": "code",
      "execution_count": null,
      "metadata": {
        "id": "3DzsHi6ir9IK"
      },
      "outputs": [],
      "source": [
        "from sklearn.model_selection import train_test_split\n",
        "X_train, X_val, y_train, y_val = train_test_split(combined_df_hd, y, test_size = 0.3, random_state=20)"
      ]
    },
    {
      "cell_type": "markdown",
      "metadata": {
        "id": "LXXOovbrsa2k"
      },
      "source": [
        "### Decision Tree\n",
        "From sklearn.tree use DecisionTreeClassifier to build a classification model with default parameters."
      ]
    },
    {
      "cell_type": "code",
      "execution_count": null,
      "metadata": {
        "id": "nqYXkEHDscGu",
        "colab": {
          "base_uri": "https://localhost:8080/",
          "height": 75
        },
        "outputId": "648071b8-ee94-436f-ed06-ea9bb54e4038"
      },
      "outputs": [
        {
          "output_type": "execute_result",
          "data": {
            "text/plain": [
              "DecisionTreeClassifier(random_state=30)"
            ],
            "text/html": [
              "<style>#sk-container-id-6 {color: black;background-color: white;}#sk-container-id-6 pre{padding: 0;}#sk-container-id-6 div.sk-toggleable {background-color: white;}#sk-container-id-6 label.sk-toggleable__label {cursor: pointer;display: block;width: 100%;margin-bottom: 0;padding: 0.3em;box-sizing: border-box;text-align: center;}#sk-container-id-6 label.sk-toggleable__label-arrow:before {content: \"▸\";float: left;margin-right: 0.25em;color: #696969;}#sk-container-id-6 label.sk-toggleable__label-arrow:hover:before {color: black;}#sk-container-id-6 div.sk-estimator:hover label.sk-toggleable__label-arrow:before {color: black;}#sk-container-id-6 div.sk-toggleable__content {max-height: 0;max-width: 0;overflow: hidden;text-align: left;background-color: #f0f8ff;}#sk-container-id-6 div.sk-toggleable__content pre {margin: 0.2em;color: black;border-radius: 0.25em;background-color: #f0f8ff;}#sk-container-id-6 input.sk-toggleable__control:checked~div.sk-toggleable__content {max-height: 200px;max-width: 100%;overflow: auto;}#sk-container-id-6 input.sk-toggleable__control:checked~label.sk-toggleable__label-arrow:before {content: \"▾\";}#sk-container-id-6 div.sk-estimator input.sk-toggleable__control:checked~label.sk-toggleable__label {background-color: #d4ebff;}#sk-container-id-6 div.sk-label input.sk-toggleable__control:checked~label.sk-toggleable__label {background-color: #d4ebff;}#sk-container-id-6 input.sk-hidden--visually {border: 0;clip: rect(1px 1px 1px 1px);clip: rect(1px, 1px, 1px, 1px);height: 1px;margin: -1px;overflow: hidden;padding: 0;position: absolute;width: 1px;}#sk-container-id-6 div.sk-estimator {font-family: monospace;background-color: #f0f8ff;border: 1px dotted black;border-radius: 0.25em;box-sizing: border-box;margin-bottom: 0.5em;}#sk-container-id-6 div.sk-estimator:hover {background-color: #d4ebff;}#sk-container-id-6 div.sk-parallel-item::after {content: \"\";width: 100%;border-bottom: 1px solid gray;flex-grow: 1;}#sk-container-id-6 div.sk-label:hover label.sk-toggleable__label {background-color: #d4ebff;}#sk-container-id-6 div.sk-serial::before {content: \"\";position: absolute;border-left: 1px solid gray;box-sizing: border-box;top: 0;bottom: 0;left: 50%;z-index: 0;}#sk-container-id-6 div.sk-serial {display: flex;flex-direction: column;align-items: center;background-color: white;padding-right: 0.2em;padding-left: 0.2em;position: relative;}#sk-container-id-6 div.sk-item {position: relative;z-index: 1;}#sk-container-id-6 div.sk-parallel {display: flex;align-items: stretch;justify-content: center;background-color: white;position: relative;}#sk-container-id-6 div.sk-item::before, #sk-container-id-6 div.sk-parallel-item::before {content: \"\";position: absolute;border-left: 1px solid gray;box-sizing: border-box;top: 0;bottom: 0;left: 50%;z-index: -1;}#sk-container-id-6 div.sk-parallel-item {display: flex;flex-direction: column;z-index: 1;position: relative;background-color: white;}#sk-container-id-6 div.sk-parallel-item:first-child::after {align-self: flex-end;width: 50%;}#sk-container-id-6 div.sk-parallel-item:last-child::after {align-self: flex-start;width: 50%;}#sk-container-id-6 div.sk-parallel-item:only-child::after {width: 0;}#sk-container-id-6 div.sk-dashed-wrapped {border: 1px dashed gray;margin: 0 0.4em 0.5em 0.4em;box-sizing: border-box;padding-bottom: 0.4em;background-color: white;}#sk-container-id-6 div.sk-label label {font-family: monospace;font-weight: bold;display: inline-block;line-height: 1.2em;}#sk-container-id-6 div.sk-label-container {text-align: center;}#sk-container-id-6 div.sk-container {/* jupyter's `normalize.less` sets `[hidden] { display: none; }` but bootstrap.min.css set `[hidden] { display: none !important; }` so we also need the `!important` here to be able to override the default hidden behavior on the sphinx rendered scikit-learn.org. See: https://github.com/scikit-learn/scikit-learn/issues/21755 */display: inline-block !important;position: relative;}#sk-container-id-6 div.sk-text-repr-fallback {display: none;}</style><div id=\"sk-container-id-6\" class=\"sk-top-container\"><div class=\"sk-text-repr-fallback\"><pre>DecisionTreeClassifier(random_state=30)</pre><b>In a Jupyter environment, please rerun this cell to show the HTML representation or trust the notebook. <br />On GitHub, the HTML representation is unable to render, please try loading this page with nbviewer.org.</b></div><div class=\"sk-container\" hidden><div class=\"sk-item\"><div class=\"sk-estimator sk-toggleable\"><input class=\"sk-toggleable__control sk-hidden--visually\" id=\"sk-estimator-id-6\" type=\"checkbox\" checked><label for=\"sk-estimator-id-6\" class=\"sk-toggleable__label sk-toggleable__label-arrow\">DecisionTreeClassifier</label><div class=\"sk-toggleable__content\"><pre>DecisionTreeClassifier(random_state=30)</pre></div></div></div></div></div>"
            ]
          },
          "metadata": {},
          "execution_count": 110
        }
      ],
      "source": [
        "from sklearn.tree import DecisionTreeClassifier\n",
        "### Fit the classifier on the training data\n",
        "# Please set random_state=30\n",
        "### WRITE CODE HERE ###\n",
        "classifier = DecisionTreeClassifier(random_state=30)\n",
        "classifier.fit(X_train, y_train)"
      ]
    },
    {
      "cell_type": "code",
      "execution_count": null,
      "metadata": {
        "id": "g1z_pShQtcUX"
      },
      "outputs": [],
      "source": [
        "### Make predictions on the training data\n",
        "\n",
        "### WRITE CODE HERE ###\n",
        "y_train_prediction = classifier.predict(X_train)"
      ]
    },
    {
      "cell_type": "markdown",
      "metadata": {
        "id": "kPp2cIUMuS4p"
      },
      "source": [
        "Print accuracy, precision and recall for the predictions made on the training data."
      ]
    },
    {
      "cell_type": "code",
      "source": [
        "y_val.shape"
      ],
      "metadata": {
        "colab": {
          "base_uri": "https://localhost:8080/"
        },
        "id": "zjm5QPY6RKxP",
        "outputId": "4b71c717-accb-4383-ab13-4e4352c36950"
      },
      "execution_count": null,
      "outputs": [
        {
          "output_type": "execute_result",
          "data": {
            "text/plain": [
              "(90,)"
            ]
          },
          "metadata": {},
          "execution_count": 112
        }
      ]
    },
    {
      "cell_type": "code",
      "execution_count": null,
      "metadata": {
        "id": "CpqQd8W0ayP_"
      },
      "outputs": [],
      "source": [
        "# Print accuracy, precision and recall for the predictions made on the training data.\n",
        "from sklearn.metrics import accuracy_score, precision_score, recall_score, roc_auc_score, roc_curve"
      ]
    },
    {
      "cell_type": "code",
      "source": [
        "print(\"Accuracy:\", accuracy_score(y_train, y_train_prediction))\n",
        "print(\"Precision:\", precision_score(y_train, y_train_prediction))\n",
        "print(\"Recall:\", recall_score(y_train, y_train_prediction))"
      ],
      "metadata": {
        "colab": {
          "base_uri": "https://localhost:8080/"
        },
        "id": "X9jJvonwAJru",
        "outputId": "5aa25bd0-e7b1-45a5-ded5-4dfea89c407d"
      },
      "execution_count": null,
      "outputs": [
        {
          "output_type": "stream",
          "name": "stdout",
          "text": [
            "Accuracy: 1.0\n",
            "Precision: 1.0\n",
            "Recall: 1.0\n"
          ]
        }
      ]
    },
    {
      "cell_type": "code",
      "execution_count": null,
      "metadata": {
        "id": "QHx99fcqvA9R"
      },
      "outputs": [],
      "source": [
        "### Make predictions on the validation data\n",
        "### WRITE CODE HERE ###\n",
        "y_val_prediction = classifier.predict(X_val)"
      ]
    },
    {
      "cell_type": "markdown",
      "metadata": {
        "id": "-77rKnkXvTs0"
      },
      "source": [
        "Print accuracy, prediction and recall for the predictions made on the validation data."
      ]
    },
    {
      "cell_type": "code",
      "execution_count": null,
      "metadata": {
        "id": "2e_HZneYva4d",
        "colab": {
          "base_uri": "https://localhost:8080/"
        },
        "outputId": "1d400241-3428-40ab-f57e-46cf305d7ed3"
      },
      "outputs": [
        {
          "output_type": "stream",
          "name": "stdout",
          "text": [
            "Accuracy: 0.7222222222222222\n",
            "Precision: 0.6511627906976745\n",
            "Recall: 0.7368421052631579\n"
          ]
        }
      ],
      "source": [
        "### WRITE CODE HERE ###\n",
        "print(\"Accuracy:\", accuracy_score(y_val, y_val_prediction))\n",
        "print(\"Precision:\", precision_score(y_val, y_val_prediction))\n",
        "print(\"Recall:\", recall_score(y_val, y_val_prediction))"
      ]
    },
    {
      "cell_type": "markdown",
      "metadata": {
        "id": "xwIDnQCmvvqj"
      },
      "source": [
        "Plot ROC curve and obtain AUC for predictions on the validation data."
      ]
    },
    {
      "cell_type": "code",
      "execution_count": null,
      "metadata": {
        "id": "L9ZqUWdXv7D5"
      },
      "outputs": [],
      "source": [
        "# Plot the ROC curve by giving appropriate names for title and axes.\n",
        "\n",
        "### WRITE CODE HERE\n",
        "\n",
        "from sklearn.metrics import roc_curve\n",
        "import sklearn.metrics as metrics\n",
        "import matplotlib.pyplot as plt\n",
        "\n",
        "from sklearn.multiclass import OneVsRestClassifier\n",
        "from sklearn.preprocessing import label_binarize\n",
        "from sklearn.metrics import roc_curve, auc"
      ]
    },
    {
      "cell_type": "code",
      "source": [
        "# Predict probabilities for each class on the validation set\n",
        "y_val_proba = classifier.predict_proba(X_val)[:, 1]\n",
        "\n",
        "# Calculate ROC curve and AUC for the binary classification\n",
        "fpr, tpr, _ = roc_curve(y_val, y_val_proba)\n",
        "roc_auc = auc(fpr, tpr)\n",
        "\n",
        "# Plot ROC curve for the binary classification\n",
        "plt.figure(figsize=(8, 6))\n",
        "plt.plot(fpr, tpr, color='darkorange', lw=2, label=f'ROC curve (AUC = {roc_auc:.2f})')\n",
        "plt.plot([0, 1], [0, 1], color='navy', lw=2, linestyle='--')\n",
        "plt.xlabel('False Positive Rate')\n",
        "plt.ylabel('True Positive Rate')\n",
        "plt.title('Receiver Operating Characteristic (ROC) Curve - Validation Set')\n",
        "plt.legend(loc=\"lower right\")\n",
        "plt.show()\n",
        "\n",
        "# Print AUC for the binary classification\n",
        "print(\"AUC for Validation Set:\", roc_auc)"
      ],
      "metadata": {
        "colab": {
          "base_uri": "https://localhost:8080/",
          "height": 582
        },
        "id": "-S7_g6qVAnTR",
        "outputId": "6bb624d2-27f7-4290-acc2-bbd665b1156c"
      },
      "execution_count": null,
      "outputs": [
        {
          "output_type": "display_data",
          "data": {
            "text/plain": [
              "<Figure size 800x600 with 1 Axes>"
            ],
            "image/png": "[encoded data removed]"
          },
          "metadata": {}
        },
        {
          "output_type": "stream",
          "name": "stdout",
          "text": [
            "AUC for Validation Set: 0.7241902834008098\n"
          ]
        }
      ]
    },
    {
      "cell_type": "markdown",
      "metadata": {
        "id": "EHY7zX-LwNA-"
      },
      "source": [
        "Q. Based on the scores for training set and validation set, explain the performance of the above model in terms of bias and variance.<br>\n",
        "\n",
        "Ans - The model shows possible signs of overfitting. While it performs perfectly on the training set with low(or nearly no) bias, the significant drop in accuracy on the validation set and variability in precision and recall across classes suggest high variance. The model is likely too complex and has learned noise in the training data, resulting in poor generalization to new, unseen data. To fix the issue of overfitting, we can reduce the model's complexity, such as through hyperparameter tuning or using a simpler model. If we look into numbers more specifically, in the training set, the prediction of accuracy, precision, and recall was 1 individually, indicating the model fits the training set very well with no bias. While in the validation set, precision (0.651) and recall (0.737) indicate that the model performs reasonably well, but there is room for improvement. Also, a significant drop in performance on the validation set compared to the training set often indicates higher variance."
      ]
    },
    {
      "cell_type": "markdown",
      "metadata": {
        "id": "Gn_lR52Hwb0V"
      },
      "source": [
        "### Random Forest\n",
        "\n",
        "\n",
        "Decision Trees have low predictive power compared to other methods due to high variance. Random Forest increases prediction power at the expense of decreased interpretability.\n",
        "\n",
        "\n",
        "From sklearn.ensemble use RandomForestClassifier to build a classification model with default parameters."
      ]
    },
    {
      "cell_type": "code",
      "source": [
        "## YUFEI"
      ],
      "metadata": {
        "id": "IrptZCw51bKT"
      },
      "execution_count": null,
      "outputs": []
    },
    {
      "cell_type": "code",
      "execution_count": null,
      "metadata": {
        "id": "V11dWNRLwjfr"
      },
      "outputs": [],
      "source": [
        "\n",
        "from sklearn.ensemble import RandomForestClassifier\n",
        "### Fit the classifier on the training data\n",
        "# Please set random_state=30\n",
        "### WRITE CODE HERE ###\n",
        "ranfor = RandomForestClassifier(random_state=30).fit(X_train, y_train)\n"
      ]
    },
    {
      "cell_type": "code",
      "execution_count": null,
      "metadata": {
        "id": "xYomCX4nw1yq"
      },
      "outputs": [],
      "source": [
        "### Make predictions on the training data\n",
        "### WRITE CODE HERE ###\n",
        "\n",
        "y_train_pred=ranfor.predict(X_train)\n"
      ]
    },
    {
      "cell_type": "code",
      "source": [
        "### WRITE CODE HERE ###\n",
        "# Calculate Precision\n",
        "precision = precision_score(y_train, y_train_pred)\n",
        "\n",
        "# Calculate Recall\n",
        "recall = recall_score(y_train, y_train_pred)\n",
        "\n",
        "# Calculate Accuracy\n",
        "accuracy = accuracy_score(y_train, y_train_pred)\n",
        "\n",
        "# Print the results\n",
        "print(\"Precision:\", precision)\n",
        "print(\"Recall:\", recall)\n",
        "print(\"Accuracy:\", accuracy)\n"
      ],
      "metadata": {
        "colab": {
          "base_uri": "https://localhost:8080/"
        },
        "id": "Xt-w_ullCicJ",
        "outputId": "541c7b66-7b82-407b-fdab-88b6c9daa2f8"
      },
      "execution_count": null,
      "outputs": [
        {
          "output_type": "stream",
          "name": "stdout",
          "text": [
            "Precision: 1.0\n",
            "Recall: 1.0\n",
            "Accuracy: 1.0\n"
          ]
        }
      ]
    },
    {
      "cell_type": "markdown",
      "metadata": {
        "id": "Q3wmGe-G1O4h"
      },
      "source": [
        "Print accuracy, precision and recall for the predictions made on the training data."
      ]
    },
    {
      "cell_type": "code",
      "execution_count": null,
      "metadata": {
        "id": "l_OUtD0Tbu0K"
      },
      "outputs": [],
      "source": [
        "from sklearn.metrics import precision_score, recall_score, accuracy_score"
      ]
    },
    {
      "cell_type": "code",
      "execution_count": null,
      "metadata": {
        "id": "k9WwHw3S1qvG"
      },
      "outputs": [],
      "source": [
        "### Make predictions on the validation data\n",
        "\n",
        "### WRITE CODE HERE ###\n",
        "y_pred=ranfor.predict(X_val)\n"
      ]
    },
    {
      "cell_type": "markdown",
      "metadata": {
        "id": "Uq399RNb1tBH"
      },
      "source": [
        "Print accuracy, prediction and recall for the predictions made on the validation data."
      ]
    },
    {
      "cell_type": "code",
      "execution_count": null,
      "metadata": {
        "id": "1eDc8z5H1y8i",
        "colab": {
          "base_uri": "https://localhost:8080/"
        },
        "outputId": "9792d53f-6d24-4ad5-f01b-72db7a36b398"
      },
      "outputs": [
        {
          "output_type": "stream",
          "name": "stdout",
          "text": [
            "Precision: 0.75\n",
            "Recall: 0.868421052631579\n",
            "Accuracy: 0.8222222222222222\n"
          ]
        }
      ],
      "source": [
        "### WRITE CODE HERE ###\n",
        "# Calculate Precision\n",
        "precision = precision_score(y_val, y_pred)\n",
        "\n",
        "# Calculate Recall\n",
        "recall = recall_score(y_val, y_pred)\n",
        "\n",
        "# Calculate Accuracy\n",
        "accuracy = accuracy_score(y_val, y_pred)\n",
        "\n",
        "# Print the results\n",
        "print(\"Precision:\", precision)\n",
        "print(\"Recall:\", recall)\n",
        "print(\"Accuracy:\", accuracy)\n"
      ]
    },
    {
      "cell_type": "markdown",
      "metadata": {
        "id": "5-aEzhnY31GG"
      },
      "source": [
        "Plot ROC curve and obtain AUC for the validation predictions"
      ]
    },
    {
      "cell_type": "code",
      "execution_count": null,
      "metadata": {
        "id": "YBtxdmDa33fJ",
        "colab": {
          "base_uri": "https://localhost:8080/",
          "height": 472
        },
        "outputId": "c7088e42-4dfc-46b7-81a7-5c34036650a3"
      },
      "outputs": [
        {
          "output_type": "display_data",
          "data": {
            "text/plain": [
              "<Figure size 640x480 with 1 Axes>"
            ],
            "image/png": "[encoded data removed]"
          },
          "metadata": {}
        }
      ],
      "source": [
        "# Plot the ROC curve by giving appropriate names for title and axes.\n",
        "\n",
        "### WRITE CODE HERE\n",
        "\n",
        "from sklearn.metrics import roc_curve, auc\n",
        "import sklearn.metrics as metrics\n",
        "\n",
        "import matplotlib.pyplot as plt\n",
        "\n",
        "\n",
        "y_probs = ranfor.predict_proba(X_val)[:, 1]\n",
        "\n",
        "# Compute ROC curve and ROC area\n",
        "y_probs = ranfor.predict_proba(X_val)[:, 1]\n",
        "fpr, tpr, thresholds = roc_curve(y_val, y_probs)\n",
        "roc_auc = auc(fpr, tpr)\n",
        "\n",
        "# Plotting the ROC curve\n",
        "plt.figure()\n",
        "plt.plot(fpr, tpr, color='darkorange', lw=2, label='ROC curve (area = %0.2f)' % roc_auc)\n",
        "plt.plot([0, 1], [0, 1], color='navy', lw=2, linestyle='--')\n",
        "plt.xlim([0.0, 1.0])\n",
        "plt.ylim([0.0, 1.05])\n",
        "plt.xlabel('False Positive Rate')\n",
        "plt.ylabel('True Positive Rate')\n",
        "plt.title('Receiver Operating Characteristic')\n",
        "plt.legend(loc=\"lower right\")\n",
        "plt.show()\n"
      ]
    },
    {
      "cell_type": "markdown",
      "metadata": {
        "id": "fcld7NGV4GU_"
      },
      "source": [
        "Q. Based on the scores for training set and validation set, explain the performance of the above model in terms of bias and variance. Is the Random Forest model better or worse than the Decision Tree model? Explain why you think the performance may have improved or deteriorated.\n",
        "\n",
        "Ans-\n",
        "For the Random Forest model, we see an accuracy of 82.2%, indicating a relevantly low level of bias. And the AUC area of random forest method indicates that the model can make 90% valid classification. And the precision value is 75% and recall is 86.8%, which are high and balanced value. These values indicates a relevantly low variance level.\n",
        "\n",
        "The Random Forest model is better than the Decision Tree model. Because it has a overall higher level of accuracy, precision, recall, and auc area compared to that of the Decision Tree model. And the model presents relevantly low level of bias and variance. To further improve the performance of the models, we could adjust the hyparameters of the models and minimize the noise of the dataset."
      ]
    },
    {
      "cell_type": "markdown",
      "metadata": {
        "id": "IY8Pzi-B4WAz"
      },
      "source": [
        "## Hyperparameters\n",
        "\n",
        "\"Model tuning\" refers to model adjustments to better fit the data, which is separate from \"fitting\" or \"training\" the model.\n",
        "\n",
        "There are aspects of some models that are user specified. For example, when using a random forest (which is basically an ensemble of decision trees), it is probably a good idea to choose the right number of underlying trees. Too many and the model might overfit, and too few and the model might not be able to properly learn the data. Parameters such as these are referred to as \"hyperparameters\" or \"free parameters\", as the values for these are determined by the user and not the algorithm.\n",
        "\n",
        "A quick and efficient way to optimize hyperparameters is to perform Grid Search over different values of the parameters."
      ]
    },
    {
      "cell_type": "code",
      "source": [
        "## GEORGE"
      ],
      "metadata": {
        "id": "QmOY8RCD1duj"
      },
      "execution_count": null,
      "outputs": []
    },
    {
      "cell_type": "code",
      "execution_count": null,
      "metadata": {
        "id": "vH6HzdEB5JLP"
      },
      "outputs": [],
      "source": [
        "from sklearn.model_selection import GridSearchCV"
      ]
    },
    {
      "cell_type": "code",
      "execution_count": null,
      "metadata": {
        "id": "9qQPsqjm5Mfb"
      },
      "outputs": [],
      "source": [
        "# In the below dictionary, fill in the list of values that you want to try out for each parameter\n",
        "# Refer to the descriptions in sklearn.ensemble.RandomForestClassifier's doc to understand what the parameters depict\n",
        "\n",
        "param_grid = {\n",
        "    'max_depth': [],\n",
        "    'max_features': [],\n",
        "    'min_samples_leaf': [],\n",
        "    'min_samples_split': [],\n",
        "    'n_estimators': []\n",
        "}"
      ]
    },
    {
      "cell_type": "code",
      "source": [
        "# In the below dictionary, fill in the list of values that you want to try out for each parameter\n",
        "# Refer to the descriptions in sklearn.ensemble.RandomForestClassifier's doc to understand what the parameters depict\n",
        "\n",
        "param_grid = {\n",
        "    'max_depth': [1, 3, 5],\n",
        "    'max_features': [1, 3, 5, 7],\n",
        "    'min_samples_leaf': [1, 5, 9, 13],\n",
        "    'min_samples_split': [2, 3, 5],\n",
        "    'n_estimators': [10, 50, 100]\n",
        "}"
      ],
      "metadata": {
        "id": "cRnleMv0gLSP"
      },
      "execution_count": null,
      "outputs": []
    },
    {
      "cell_type": "code",
      "execution_count": null,
      "metadata": {
        "id": "8bIILs6ZdKzk"
      },
      "outputs": [],
      "source": [
        "rf = RandomForestClassifier(random_state=30)"
      ]
    },
    {
      "cell_type": "code",
      "execution_count": null,
      "metadata": {
        "id": "pwKYkjAM510B"
      },
      "outputs": [],
      "source": [
        "grid_search = GridSearchCV(estimator = rf, scoring='recall', param_grid = param_grid,\n",
        "                          cv = 3, n_jobs = -1, verbose = 2)"
      ]
    },
    {
      "cell_type": "code",
      "execution_count": null,
      "metadata": {
        "id": "adfXnU4qBuKj",
        "colab": {
          "base_uri": "https://localhost:8080/"
        },
        "outputId": "60100a6b-0158-4804-c290-3754d8348ab2"
      },
      "outputs": [
        {
          "output_type": "stream",
          "name": "stdout",
          "text": [
            "Fitting 3 folds for each of 432 candidates, totalling 1296 fits\n"
          ]
        }
      ],
      "source": [
        "### Fit on the training data with all sets of parameters.\n",
        "### WRITE CODE HERE ###\n",
        "\n",
        "# Fit GridSearchCV to the training data\n",
        "grid_search.fit(X_train, y_train)\n",
        "\n",
        "# Get the best parameters and score found by GridSearchCV\n",
        "best_params = grid_search.best_params_\n",
        "best_score = grid_search.best_score_\n"
      ]
    },
    {
      "cell_type": "markdown",
      "metadata": {
        "id": "Ebakm868CRn0"
      },
      "source": [
        "Display the parameters of the best model."
      ]
    },
    {
      "cell_type": "code",
      "execution_count": null,
      "metadata": {
        "id": "1hXn1Bx3CMQG",
        "colab": {
          "base_uri": "https://localhost:8080/"
        },
        "outputId": "2ef018b6-ecbf-46fe-a046-21f873b3ed9c"
      },
      "outputs": [
        {
          "output_type": "stream",
          "name": "stdout",
          "text": [
            "Best Parameters: {'max_depth': 3, 'max_features': 5, 'min_samples_leaf': 9, 'min_samples_split': 2, 'n_estimators': 50}\n"
          ]
        }
      ],
      "source": [
        "# Print the best parameters\n",
        "### WRITE CODE HERE ###\n",
        "\n",
        "print(\"Best Parameters:\", best_params)"
      ]
    },
    {
      "cell_type": "code",
      "execution_count": null,
      "metadata": {
        "id": "VFZfOfsZCXTD",
        "colab": {
          "base_uri": "https://localhost:8080/"
        },
        "outputId": "bbdf5ed7-e1ee-42bd-90e6-ad66643b19ec"
      },
      "outputs": [
        {
          "output_type": "stream",
          "name": "stdout",
          "text": [
            "Best Score: 0.8282828282828283\n"
          ]
        }
      ],
      "source": [
        "# Print the best score\n",
        "\n",
        "print(\"Best Score:\", best_score)"
      ]
    },
    {
      "cell_type": "code",
      "execution_count": null,
      "metadata": {
        "id": "xf-7OQJCCq56",
        "colab": {
          "base_uri": "https://localhost:8080/"
        },
        "outputId": "5fded928-abf2-4488-9c0b-f379727b4aa0"
      },
      "outputs": [
        {
          "output_type": "stream",
          "name": "stdout",
          "text": [
            "Precision: 0.8645833333333334\n",
            "Recall: 0.8383838383838383\n",
            "Accuracy: 0.8599033816425121\n"
          ]
        }
      ],
      "source": [
        "### Using the best model, do the following:\n",
        "### Make predictions on the training set and display accuracy, precision and recall.\n",
        "### Make predictions on the validation set and display accuracy, precision and recall.\n",
        "\n",
        "### Using the best model, do the following:\n",
        "### Make predictions on the training set and display accuracy, precision and recall.\n",
        "### WRITE CODE HERE ###\n",
        "\n",
        "best_model = grid_search.best_estimator_\n",
        "y_train_pred_bt = best_model.predict(X_train)\n",
        "\n",
        "from sklearn.metrics import precision_score, recall_score, accuracy_score\n",
        "\n",
        "# Assuming y_train is the true labels and y_train_pred are the predictions from the model\n",
        "\n",
        "# Calculate Precision\n",
        "precision = precision_score(y_train, y_train_pred_bt)\n",
        "\n",
        "# Calculate Recall\n",
        "recall = recall_score(y_train, y_train_pred_bt)\n",
        "\n",
        "# Calculate Accuracy\n",
        "accuracy = accuracy_score(y_train, y_train_pred_bt)\n",
        "\n",
        "# Print the results\n",
        "print(\"Precision:\", precision)\n",
        "print(\"Recall:\", recall)\n",
        "print(\"Accuracy:\", accuracy)\n",
        "\n"
      ]
    },
    {
      "cell_type": "code",
      "source": [
        "### Make predictions on the validation set and display accuracy, precision and recall.\n",
        "### WRITE CODE HERE ###\n",
        "\n",
        "y_val_pred_bt = best_model.predict(X_val)\n",
        "\n",
        "from sklearn.metrics import precision_score, recall_score, accuracy_score\n",
        "\n",
        "# Assuming y_val is the true labels and y_val_pred are the predictions from the model\n",
        "\n",
        "# Calculate Precision\n",
        "precision = precision_score(y_val, y_val_pred_bt)\n",
        "\n",
        "# Calculate Recall\n",
        "recall = recall_score(y_val, y_val_pred_bt)\n",
        "\n",
        "# Calculate Accuracy\n",
        "accuracy = accuracy_score(y_val, y_val_pred_bt)\n",
        "\n",
        "# Print the results\n",
        "print(\"Precision:\", precision)\n",
        "print(\"Recall:\", recall)\n",
        "print(\"Accuracy:\", accuracy)"
      ],
      "metadata": {
        "id": "NkZ7PGzqgn6z",
        "colab": {
          "base_uri": "https://localhost:8080/"
        },
        "outputId": "5c0e89c5-c11d-45b0-c315-b554199a2229"
      },
      "execution_count": null,
      "outputs": [
        {
          "output_type": "stream",
          "name": "stdout",
          "text": [
            "Precision: 0.8095238095238095\n",
            "Recall: 0.8947368421052632\n",
            "Accuracy: 0.8666666666666667\n"
          ]
        }
      ]
    },
    {
      "cell_type": "code",
      "execution_count": null,
      "metadata": {
        "id": "M5m5sQo-GEbr",
        "colab": {
          "base_uri": "https://localhost:8080/",
          "height": 472
        },
        "outputId": "3cec59bc-5080-432a-89f5-0fb2578c8072"
      },
      "outputs": [
        {
          "output_type": "display_data",
          "data": {
            "text/plain": [
              "<Figure size 640x480 with 1 Axes>"
            ],
            "image/png": "[encoded data removed]"
          },
          "metadata": {}
        }
      ],
      "source": [
        "# Plot the ROC curve on validation set by giving appropriate names for title and axes.\n",
        "\n",
        "### WRITE CODE HERE\n",
        "\n",
        "from sklearn.metrics import roc_curve, auc\n",
        "import sklearn.metrics as metrics\n",
        "import matplotlib.pyplot as plt\n",
        "\n",
        "# Predict probabilities\n",
        "y_probs = best_model.predict_proba(X_val)[:, 1]\n",
        "\n",
        "# Compute ROC curve and ROC area\n",
        "fpr, tpr, thresholds = roc_curve(y_val, y_probs)\n",
        "roc_auc = auc(fpr, tpr)\n",
        "\n",
        "# Plotting the ROC curve\n",
        "plt.figure()\n",
        "plt.plot(fpr, tpr, color='darkorange', lw=2, label='ROC curve (area = %0.2f)' % roc_auc)\n",
        "plt.plot([0, 1], [0, 1], color='navy', lw=2, linestyle='--')\n",
        "plt.xlim([0.0, 1.0])\n",
        "plt.ylim([0.0, 1.05])\n",
        "plt.xlabel('False Positive Rate')\n",
        "plt.ylabel('True Positive Rate')\n",
        "plt.title('Receiver Operating Characteristic')\n",
        "plt.legend(loc=\"lower right\")\n",
        "plt.show()\n"
      ]
    },
    {
      "cell_type": "markdown",
      "metadata": {
        "id": "cvd27HmbGX9h"
      },
      "source": [
        "### Individual student contribution"
      ]
    },
    {
      "cell_type": "markdown",
      "metadata": {
        "id": "1Izz0KV0pLo9"
      },
      "source": [
        "Cecilia (UID:  306311909): ROC curve and Hyparameter Dataset 1<br>\n",
        "George (UID: 005856460): Hyperparameter Dataset 2:<br>\n",
        "Mishika (UID: 506310334):Dataset 1- Standardization, One-Hot Encoding of Categorical Variables and Logistic Regression and Overall consolidation of the assignment  <br>\n",
        "Sophie (UID: 906310313): Decision Tree Dataset 2 <br>\n",
        "Yufei (UID: 805307029): Hyparameter Dataset 1 & Random Forest <br>"
      ]
    }
  ],
  "metadata": {
    "colab": {
      "provenance": [],
      "include_colab_link": true
    },
    "kernelspec": {
      "display_name": "Python 3",
      "name": "python3"
    },
    "language_info": {
      "name": "python"
    }
  },
  "nbformat": 4,
  "nbformat_minor": 0
}